{
  "cells": [
    {
      "cell_type": "markdown",
      "id": "93ccd385",
      "metadata": {
        "id": "93ccd385"
      },
      "source": [
        "# 第5章 大規模言語モデルのファインチューニング"
      ]
    },
    {
      "cell_type": "markdown",
      "source": [
        "**注意**\n",
        "2023/7/28現在、MARC-jaのデータセットの配布元のリンクが切れており、書籍上の5.2、5.3、5.5.4節に掲載されているコードにおいて、データセット読み込みの箇所でエラーが出る状態です。こちらのノートブックは、MARC-jaと同様の感情分析のデータセットであるWRIMEを用いて書籍と同様のコードを実行するために用意されています。"
      ],
      "metadata": {
        "collapsed": false,
        "pycharm": {
          "name": "#%% md\n"
        },
        "id": "1_mWmKVPZspp"
      },
      "id": "1_mWmKVPZspp"
    },
    {
      "cell_type": "markdown",
      "source": [
        "## 5.2 感情分析モデルの実装"
      ],
      "metadata": {
        "id": "udaE87CIUSyv"
      },
      "id": "udaE87CIUSyv"
    },
    {
      "cell_type": "markdown",
      "id": "e451487d",
      "metadata": {
        "id": "e451487d"
      },
      "source": [
        "### 5.2.1 環境の準備"
      ]
    },
    {
      "cell_type": "code",
      "execution_count": 24,
      "id": "95812908",
      "metadata": {
        "colab": {
          "base_uri": "https://localhost:8080/"
        },
        "id": "95812908",
        "outputId": "5acb7774-8fe0-4adc-8ffd-224c8e79b506"
      },
      "outputs": [
        {
          "output_type": "stream",
          "name": "stdout",
          "text": [
            "Requirement already satisfied: datasets in /usr/local/lib/python3.10/dist-packages (3.2.0)\n",
            "Requirement already satisfied: matplotlib in /usr/local/lib/python3.10/dist-packages (3.8.0)\n",
            "Requirement already satisfied: japanize-matplotlib in /usr/local/lib/python3.10/dist-packages (1.1.3)\n",
            "Requirement already satisfied: transformers[ja,torch] in /usr/local/lib/python3.10/dist-packages (4.47.1)\n",
            "Requirement already satisfied: filelock in /usr/local/lib/python3.10/dist-packages (from transformers[ja,torch]) (3.16.1)\n",
            "Requirement already satisfied: huggingface-hub<1.0,>=0.24.0 in /usr/local/lib/python3.10/dist-packages (from transformers[ja,torch]) (0.27.0)\n",
            "Requirement already satisfied: numpy>=1.17 in /usr/local/lib/python3.10/dist-packages (from transformers[ja,torch]) (1.26.4)\n",
            "Requirement already satisfied: packaging>=20.0 in /usr/local/lib/python3.10/dist-packages (from transformers[ja,torch]) (24.2)\n",
            "Requirement already satisfied: pyyaml>=5.1 in /usr/local/lib/python3.10/dist-packages (from transformers[ja,torch]) (6.0.2)\n",
            "Requirement already satisfied: regex!=2019.12.17 in /usr/local/lib/python3.10/dist-packages (from transformers[ja,torch]) (2024.11.6)\n",
            "Requirement already satisfied: requests in /usr/local/lib/python3.10/dist-packages (from transformers[ja,torch]) (2.32.3)\n",
            "Requirement already satisfied: tokenizers<0.22,>=0.21 in /usr/local/lib/python3.10/dist-packages (from transformers[ja,torch]) (0.21.0)\n",
            "Requirement already satisfied: safetensors>=0.4.1 in /usr/local/lib/python3.10/dist-packages (from transformers[ja,torch]) (0.4.5)\n",
            "Requirement already satisfied: tqdm>=4.27 in /usr/local/lib/python3.10/dist-packages (from transformers[ja,torch]) (4.67.1)\n",
            "Requirement already satisfied: fugashi>=1.0 in /usr/local/lib/python3.10/dist-packages (from transformers[ja,torch]) (1.4.0)\n",
            "Requirement already satisfied: ipadic<2.0,>=1.0.0 in /usr/local/lib/python3.10/dist-packages (from transformers[ja,torch]) (1.0.0)\n",
            "Requirement already satisfied: unidic-lite>=1.0.7 in /usr/local/lib/python3.10/dist-packages (from transformers[ja,torch]) (1.0.8)\n",
            "Requirement already satisfied: unidic>=1.0.2 in /usr/local/lib/python3.10/dist-packages (from transformers[ja,torch]) (1.1.0)\n",
            "Requirement already satisfied: sudachipy>=0.6.6 in /usr/local/lib/python3.10/dist-packages (from transformers[ja,torch]) (0.6.9)\n",
            "Requirement already satisfied: sudachidict-core>=20220729 in /usr/local/lib/python3.10/dist-packages (from transformers[ja,torch]) (20241021)\n",
            "Requirement already satisfied: rhoknp<1.3.1,>=1.1.0 in /usr/local/lib/python3.10/dist-packages (from transformers[ja,torch]) (1.3.0)\n",
            "Requirement already satisfied: torch in /usr/local/lib/python3.10/dist-packages (from transformers[ja,torch]) (2.5.1+cu121)\n",
            "Requirement already satisfied: accelerate>=0.26.0 in /usr/local/lib/python3.10/dist-packages (from transformers[ja,torch]) (1.2.1)\n",
            "Requirement already satisfied: pyarrow>=15.0.0 in /usr/local/lib/python3.10/dist-packages (from datasets) (17.0.0)\n",
            "Requirement already satisfied: dill<0.3.9,>=0.3.0 in /usr/local/lib/python3.10/dist-packages (from datasets) (0.3.8)\n",
            "Requirement already satisfied: pandas in /usr/local/lib/python3.10/dist-packages (from datasets) (2.2.2)\n",
            "Requirement already satisfied: xxhash in /usr/local/lib/python3.10/dist-packages (from datasets) (3.5.0)\n",
            "Requirement already satisfied: multiprocess<0.70.17 in /usr/local/lib/python3.10/dist-packages (from datasets) (0.70.16)\n",
            "Requirement already satisfied: fsspec<=2024.9.0,>=2023.1.0 in /usr/local/lib/python3.10/dist-packages (from fsspec[http]<=2024.9.0,>=2023.1.0->datasets) (2024.9.0)\n",
            "Requirement already satisfied: aiohttp in /usr/local/lib/python3.10/dist-packages (from datasets) (3.11.10)\n",
            "Requirement already satisfied: contourpy>=1.0.1 in /usr/local/lib/python3.10/dist-packages (from matplotlib) (1.3.1)\n",
            "Requirement already satisfied: cycler>=0.10 in /usr/local/lib/python3.10/dist-packages (from matplotlib) (0.12.1)\n",
            "Requirement already satisfied: fonttools>=4.22.0 in /usr/local/lib/python3.10/dist-packages (from matplotlib) (4.55.3)\n",
            "Requirement already satisfied: kiwisolver>=1.0.1 in /usr/local/lib/python3.10/dist-packages (from matplotlib) (1.4.7)\n",
            "Requirement already satisfied: pillow>=6.2.0 in /usr/local/lib/python3.10/dist-packages (from matplotlib) (11.0.0)\n",
            "Requirement already satisfied: pyparsing>=2.3.1 in /usr/local/lib/python3.10/dist-packages (from matplotlib) (3.2.0)\n",
            "Requirement already satisfied: python-dateutil>=2.7 in /usr/local/lib/python3.10/dist-packages (from matplotlib) (2.8.2)\n",
            "Requirement already satisfied: psutil in /usr/local/lib/python3.10/dist-packages (from accelerate>=0.26.0->transformers[ja,torch]) (5.9.5)\n",
            "Requirement already satisfied: aiohappyeyeballs>=2.3.0 in /usr/local/lib/python3.10/dist-packages (from aiohttp->datasets) (2.4.4)\n",
            "Requirement already satisfied: aiosignal>=1.1.2 in /usr/local/lib/python3.10/dist-packages (from aiohttp->datasets) (1.3.2)\n",
            "Requirement already satisfied: async-timeout<6.0,>=4.0 in /usr/local/lib/python3.10/dist-packages (from aiohttp->datasets) (4.0.3)\n",
            "Requirement already satisfied: attrs>=17.3.0 in /usr/local/lib/python3.10/dist-packages (from aiohttp->datasets) (24.3.0)\n",
            "Requirement already satisfied: frozenlist>=1.1.1 in /usr/local/lib/python3.10/dist-packages (from aiohttp->datasets) (1.5.0)\n",
            "Requirement already satisfied: multidict<7.0,>=4.5 in /usr/local/lib/python3.10/dist-packages (from aiohttp->datasets) (6.1.0)\n",
            "Requirement already satisfied: propcache>=0.2.0 in /usr/local/lib/python3.10/dist-packages (from aiohttp->datasets) (0.2.1)\n",
            "Requirement already satisfied: yarl<2.0,>=1.17.0 in /usr/local/lib/python3.10/dist-packages (from aiohttp->datasets) (1.18.3)\n",
            "Requirement already satisfied: typing-extensions>=3.7.4.3 in /usr/local/lib/python3.10/dist-packages (from huggingface-hub<1.0,>=0.24.0->transformers[ja,torch]) (4.12.2)\n",
            "Requirement already satisfied: six>=1.5 in /usr/local/lib/python3.10/dist-packages (from python-dateutil>=2.7->matplotlib) (1.17.0)\n",
            "Requirement already satisfied: charset-normalizer<4,>=2 in /usr/local/lib/python3.10/dist-packages (from requests->transformers[ja,torch]) (3.4.0)\n",
            "Requirement already satisfied: idna<4,>=2.5 in /usr/local/lib/python3.10/dist-packages (from requests->transformers[ja,torch]) (3.10)\n",
            "Requirement already satisfied: urllib3<3,>=1.21.1 in /usr/local/lib/python3.10/dist-packages (from requests->transformers[ja,torch]) (2.2.3)\n",
            "Requirement already satisfied: certifi>=2017.4.17 in /usr/local/lib/python3.10/dist-packages (from requests->transformers[ja,torch]) (2024.12.14)\n",
            "Requirement already satisfied: networkx in /usr/local/lib/python3.10/dist-packages (from torch->transformers[ja,torch]) (3.4.2)\n",
            "Requirement already satisfied: jinja2 in /usr/local/lib/python3.10/dist-packages (from torch->transformers[ja,torch]) (3.1.4)\n",
            "Requirement already satisfied: sympy==1.13.1 in /usr/local/lib/python3.10/dist-packages (from torch->transformers[ja,torch]) (1.13.1)\n",
            "Requirement already satisfied: mpmath<1.4,>=1.1.0 in /usr/local/lib/python3.10/dist-packages (from sympy==1.13.1->torch->transformers[ja,torch]) (1.3.0)\n",
            "Requirement already satisfied: wasabi<1.0.0,>=0.6.0 in /usr/local/lib/python3.10/dist-packages (from unidic>=1.0.2->transformers[ja,torch]) (0.10.1)\n",
            "Requirement already satisfied: plac<2.0.0,>=1.1.3 in /usr/local/lib/python3.10/dist-packages (from unidic>=1.0.2->transformers[ja,torch]) (1.4.3)\n",
            "Requirement already satisfied: pytz>=2020.1 in /usr/local/lib/python3.10/dist-packages (from pandas->datasets) (2024.2)\n",
            "Requirement already satisfied: tzdata>=2022.7 in /usr/local/lib/python3.10/dist-packages (from pandas->datasets) (2024.2)\n",
            "Requirement already satisfied: MarkupSafe>=2.0 in /usr/local/lib/python3.10/dist-packages (from jinja2->torch->transformers[ja,torch]) (3.0.2)\n"
          ]
        }
      ],
      "source": [
        "!pip install transformers[ja,torch] datasets matplotlib japanize-matplotlib"
      ]
    },
    {
      "cell_type": "code",
      "execution_count": 25,
      "id": "f016fa8a",
      "metadata": {
        "id": "f016fa8a"
      },
      "outputs": [],
      "source": [
        "from transformers.trainer_utils import set_seed\n",
        "\n",
        "# 乱数シードを42に固定\n",
        "set_seed(42)"
      ]
    },
    {
      "cell_type": "markdown",
      "id": "5f09cfa2",
      "metadata": {
        "id": "5f09cfa2"
      },
      "source": [
        "### 5.2.2 データセットの準備"
      ]
    },
    {
      "cell_type": "code",
      "execution_count": 26,
      "id": "6d4ba4c0",
      "metadata": {
        "colab": {
          "base_uri": "https://localhost:8080/"
        },
        "id": "6d4ba4c0",
        "outputId": "87e58d34-c281-4a13-ef98-52a2769049b8"
      },
      "outputs": [
        {
          "output_type": "stream",
          "name": "stdout",
          "text": [
            "{'datetime': '2012/7/31 23:48',\n",
            " 'label': 1,\n",
            " 'sentence': 'ぼけっとしてたらこんな時間。チャリあるから食べにでたいのに…',\n",
            " 'user_id': 1}\n"
          ]
        }
      ],
      "source": [
        "from pprint import pprint\n",
        "from datasets import load_dataset\n",
        "\n",
        "# Hugging Face Hub上のllm-book/wrime-sentimentのリポジトリから\n",
        "# データを読み込む\n",
        "train_dataset = load_dataset(\"llm-book/wrime-sentiment\", split=\"train\")\n",
        "valid_dataset = load_dataset(\"llm-book/wrime-sentiment\", split=\"validation\")\n",
        "# pprintで見やすく表示する\n",
        "pprint(train_dataset[0])"
      ]
    },
    {
      "cell_type": "code",
      "execution_count": 27,
      "id": "1a61ece7",
      "metadata": {
        "colab": {
          "base_uri": "https://localhost:8080/"
        },
        "id": "1a61ece7",
        "outputId": "1e977edd-8641-4f8d-e471-664d329dc218"
      },
      "outputs": [
        {
          "output_type": "stream",
          "name": "stdout",
          "text": [
            "{'datetime': Value(dtype='string', id=None),\n",
            " 'label': ClassLabel(names=['positive', 'negative'], id=None),\n",
            " 'sentence': Value(dtype='string', id=None),\n",
            " 'user_id': Value(dtype='int64', id=None)}\n"
          ]
        }
      ],
      "source": [
        "pprint(train_dataset.features)"
      ]
    },
    {
      "cell_type": "markdown",
      "id": "615990b5",
      "metadata": {
        "id": "615990b5"
      },
      "source": [
        "### 5.2.3 トークナイザ"
      ]
    },
    {
      "cell_type": "code",
      "execution_count": 28,
      "id": "5bb39540",
      "metadata": {
        "colab": {
          "base_uri": "https://localhost:8080/"
        },
        "id": "5bb39540",
        "outputId": "c2c6520f-a8f8-472c-9624-d4e735d4e7d1"
      },
      "outputs": [
        {
          "output_type": "stream",
          "name": "stdout",
          "text": [
            "BertJapaneseTokenizer\n"
          ]
        }
      ],
      "source": [
        "from transformers import AutoTokenizer\n",
        "\n",
        "# Hugging Face Hub上のモデル名を指定\n",
        "model_name = \"cl-tohoku/bert-base-japanese-v3\"\n",
        "# モデル名からトークナイザを読み込む\n",
        "tokenizer = AutoTokenizer.from_pretrained(model_name)\n",
        "# トークナイザのクラス名を確認\n",
        "print(type(tokenizer).__name__)"
      ]
    },
    {
      "cell_type": "code",
      "execution_count": 29,
      "id": "99db6435",
      "metadata": {
        "colab": {
          "base_uri": "https://localhost:8080/"
        },
        "id": "99db6435",
        "outputId": "5981d14d-e3d9-4be7-bbb8-db6d516bc11f"
      },
      "outputs": [
        {
          "output_type": "execute_result",
          "data": {
            "text/plain": [
              "['これ', 'は', 'テスト', 'です', '。']"
            ]
          },
          "metadata": {},
          "execution_count": 29
        }
      ],
      "source": [
        "tokenizer.tokenize(\"これはテストです。\")"
      ]
    },
    {
      "cell_type": "code",
      "execution_count": 30,
      "id": "a4300d90",
      "metadata": {
        "colab": {
          "base_uri": "https://localhost:8080/"
        },
        "id": "a4300d90",
        "outputId": "d12c0670-6636-40f6-a21a-1af1b0b26ab8"
      },
      "outputs": [
        {
          "output_type": "stream",
          "name": "stdout",
          "text": [
            "BatchEncoding\n"
          ]
        }
      ],
      "source": [
        "encoded_input = tokenizer(\"これはテストです。\")\n",
        "# 出力されたオブジェクトのクラスを表示\n",
        "print(type(encoded_input).__name__)"
      ]
    },
    {
      "cell_type": "code",
      "execution_count": 31,
      "id": "2aebd3c8",
      "metadata": {
        "colab": {
          "base_uri": "https://localhost:8080/"
        },
        "id": "2aebd3c8",
        "outputId": "7f6334ba-fc5d-4136-9b1b-c86992768b5b"
      },
      "outputs": [
        {
          "output_type": "stream",
          "name": "stdout",
          "text": [
            "{'attention_mask': [1, 1, 1, 1, 1, 1, 1],\n",
            " 'input_ids': [2, 12538, 465, 14985, 13037, 385, 3],\n",
            " 'token_type_ids': [0, 0, 0, 0, 0, 0, 0]}\n"
          ]
        }
      ],
      "source": [
        "pprint(encoded_input)"
      ]
    },
    {
      "cell_type": "code",
      "execution_count": 32,
      "id": "27af9b91",
      "metadata": {
        "colab": {
          "base_uri": "https://localhost:8080/"
        },
        "id": "27af9b91",
        "outputId": "b512ba1c-66d8-406c-ea53-7d99bdf5539e"
      },
      "outputs": [
        {
          "output_type": "execute_result",
          "data": {
            "text/plain": [
              "['[CLS]', 'これ', 'は', 'テスト', 'です', '。', '[SEP]']"
            ]
          },
          "metadata": {},
          "execution_count": 32
        }
      ],
      "source": [
        "tokenizer.convert_ids_to_tokens(encoded_input[\"input_ids\"])"
      ]
    },
    {
      "cell_type": "markdown",
      "id": "c4574c3d",
      "metadata": {
        "id": "c4574c3d"
      },
      "source": [
        "### 5.2.4 データセット統計の可視化"
      ]
    },
    {
      "cell_type": "code",
      "execution_count": 33,
      "id": "743767a1",
      "metadata": {
        "colab": {
          "base_uri": "https://localhost:8080/",
          "height": 956
        },
        "id": "743767a1",
        "outputId": "b6338d54-e78f-4b39-a640-de33b10f7fc2"
      },
      "outputs": [
        {
          "output_type": "stream",
          "name": "stderr",
          "text": [
            "100%|██████████| 20149/20149 [00:12<00:00, 1640.65it/s]\n"
          ]
        },
        {
          "output_type": "display_data",
          "data": {
            "text/plain": [
              "<Figure size 640x480 with 1 Axes>"
            ],
            "image/png": "[encoded data removed]"
          },
          "metadata": {}
        },
        {
          "output_type": "stream",
          "name": "stderr",
          "text": [
            "100%|██████████| 1608/1608 [00:00<00:00, 1734.82it/s]\n"
          ]
        },
        {
          "output_type": "display_data",
          "data": {
            "text/plain": [
              "<Figure size 640x480 with 1 Axes>"
            ],
            "image/png": "[encoded data removed]"
          },
          "metadata": {}
        }
      ],
      "source": [
        "from collections import Counter\n",
        "import japanize_matplotlib\n",
        "import matplotlib.pyplot as plt\n",
        "from datasets import Dataset\n",
        "from tqdm import tqdm\n",
        "\n",
        "plt.rcParams[\"font.size\"] = 18  # 文字サイズを大きくする\n",
        "\n",
        "def visualize_text_length(dataset: Dataset):\n",
        "    \"\"\"データセット中のテキストのトークン数の分布をグラフとして描画\"\"\"\n",
        "    # データセット中のテキストの長さを数える\n",
        "    length_counter = Counter()\n",
        "    for data in tqdm(dataset):\n",
        "        length = len(tokenizer.tokenize(data[\"sentence\"]))\n",
        "        length_counter[length] += 1\n",
        "    # length_counterの値から棒グラフを描画する\n",
        "    plt.bar(length_counter.keys(), length_counter.values(), width=1.0)\n",
        "    plt.xlabel(\"トークン数\")\n",
        "    plt.ylabel(\"事例数\")\n",
        "    plt.show()\n",
        "\n",
        "visualize_text_length(train_dataset)\n",
        "visualize_text_length(valid_dataset)"
      ]
    },
    {
      "cell_type": "code",
      "execution_count": 34,
      "id": "42c7f3ba",
      "metadata": {
        "colab": {
          "base_uri": "https://localhost:8080/",
          "height": 921
        },
        "id": "42c7f3ba",
        "outputId": "db8c211f-2916-4289-d2a6-c7db04b94446"
      },
      "outputs": [
        {
          "output_type": "display_data",
          "data": {
            "text/plain": [
              "<Figure size 640x480 with 1 Axes>"
            ],
            "image/png": "[encoded data removed]"
          },
          "metadata": {}
        },
        {
          "output_type": "display_data",
          "data": {
            "text/plain": [
              "<Figure size 640x480 with 1 Axes>"
            ],
            "image/png": "[encoded data removed]"
          },
          "metadata": {}
        }
      ],
      "source": [
        "def visualize_labels(dataset: Dataset):\n",
        "    \"\"\"データセット中のラベル分布をグラフとして描画\"\"\"\n",
        "    # データセット中のラベルの数を数える\n",
        "    label_counter = Counter()\n",
        "    for data in dataset:\n",
        "        label_id = data[\"label\"]\n",
        "        label_name = dataset.features[\"label\"].names[label_id]\n",
        "        label_counter[label_name] += 1\n",
        "    # label_counterを棒グラフとして描画する\n",
        "    plt.bar(label_counter.keys(), label_counter.values(), width=1.0)\n",
        "    plt.xlabel(\"ラベル\")\n",
        "    plt.ylabel(\"事例数\")\n",
        "    plt.show()\n",
        "\n",
        "visualize_labels(train_dataset)\n",
        "visualize_labels(valid_dataset)"
      ]
    },
    {
      "cell_type": "markdown",
      "id": "9981e005",
      "metadata": {
        "id": "9981e005"
      },
      "source": [
        "### 5.2.5 データセットの前処理"
      ]
    },
    {
      "cell_type": "code",
      "execution_count": 35,
      "id": "db4deb87",
      "metadata": {
        "id": "db4deb87"
      },
      "outputs": [],
      "source": [
        "from transformers import BatchEncoding\n",
        "\n",
        "def preprocess_text_classification(\n",
        "    example: dict[str, str | int]\n",
        ") -> BatchEncoding:\n",
        "    \"\"\"文書分類の事例のテキストをトークナイズし、IDに変換\"\"\"\n",
        "    # encoded_example = tokenizer(example[\"sentence\"], max_length=512)\n",
        "    encoded_example = tokenizer(example[\"sentence\"], max_length=256)\n",
        "    # モデルの入力引数である\"labels\"をキーとして格納する\n",
        "    encoded_example[\"labels\"] = example[\"label\"]\n",
        "    return encoded_example"
      ]
    },
    {
      "cell_type": "code",
      "execution_count": 36,
      "id": "13d1d1a2",
      "metadata": {
        "colab": {
          "base_uri": "https://localhost:8080/",
          "height": 118,
          "referenced_widgets": [
            "2b73af47f4e2406a8adfcacd6625cb5b",
            "58030779c84e401d903f2c613d52cc35",
            "82e45a4415814ffa85d596f1119853c0",
            "59ae06de6d6c4b9cae3e9f3accecb3b7",
            "db20e7c784c348f5b9fdd202a7ea1553",
            "4f54413ab968435e8a6577ae253ec094",
            "e6e4dd9a43374c088fca8ea32f989f2a",
            "9b66319c5d9a485ead74da2c7c597982",
            "a33e520378324b92a983b872ce2b0771",
            "f4b5c4df71764162a95bef80f4daa08b",
            "d76bd75bdb7c4c078fafd24f54d28ebf",
            "7d5003bbf38e4595b49ac48f5961726c",
            "5a6c963f993347b895d24eb4cdd1cfc4",
            "b91c51d777294879b1065879d1b8d8be",
            "034b000b6dc74a828a2aca98ce233456",
            "ff6b3e0e0c80434ebe08c39fb1f3d7ac",
            "032d007b260c488ea09d7747892dfffb",
            "4bf59bdfd6874ce692ef67a3f80d5690",
            "bfc31f8a9dfb48b59505af6135b45393",
            "0519d530cb3f4fdda9a2ebb9c859ef9c",
            "68d3dcd2c1c046dd87fc4defe6a0f5ad",
            "3dbe955e56324238a9fe5a52a38f7a62"
          ]
        },
        "id": "13d1d1a2",
        "outputId": "3df6ad3d-4d59-4744-d48e-4884d9d72745"
      },
      "outputs": [
        {
          "output_type": "display_data",
          "data": {
            "text/plain": [
              "Map:   0%|          | 0/20149 [00:00<?, ? examples/s]"
            ],
            "application/vnd.jupyter.widget-view+json": {
              "version_major": 2,
              "version_minor": 0,
              "model_id": "2b73af47f4e2406a8adfcacd6625cb5b"
            }
          },
          "metadata": {}
        },
        {
          "output_type": "stream",
          "name": "stderr",
          "text": [
            "Truncation was not explicitly activated but `max_length` is provided a specific value, please use `truncation=True` to explicitly truncate examples to max length. Defaulting to 'longest_first' truncation strategy. If you encode pairs of sequences (GLUE-style) with the tokenizer you can select this strategy more precisely by providing a specific strategy to `truncation`.\n"
          ]
        },
        {
          "output_type": "display_data",
          "data": {
            "text/plain": [
              "Map:   0%|          | 0/1608 [00:00<?, ? examples/s]"
            ],
            "application/vnd.jupyter.widget-view+json": {
              "version_major": 2,
              "version_minor": 0,
              "model_id": "7d5003bbf38e4595b49ac48f5961726c"
            }
          },
          "metadata": {}
        }
      ],
      "source": [
        "encoded_train_dataset = train_dataset.map(\n",
        "    preprocess_text_classification,\n",
        "    remove_columns=train_dataset.column_names,\n",
        ")\n",
        "encoded_valid_dataset = valid_dataset.map(\n",
        "    preprocess_text_classification,\n",
        "    remove_columns=valid_dataset.column_names,\n",
        ")"
      ]
    },
    {
      "cell_type": "code",
      "execution_count": 37,
      "id": "e35135a4",
      "metadata": {
        "colab": {
          "base_uri": "https://localhost:8080/"
        },
        "id": "e35135a4",
        "outputId": "6fd0366d-a9c8-4e43-8c6b-e6b200a01280"
      },
      "outputs": [
        {
          "output_type": "stream",
          "name": "stdout",
          "text": [
            "{'input_ids': [2, 478, 7139, 15269, 441, 456, 13123, 21311, 12671, 385, 12651, 7065, 12485, 12488, 13781, 461, 457, 13030, 464, 461, 29, 29, 29, 3], 'token_type_ids': [0, 0, 0, 0, 0, 0, 0, 0, 0, 0, 0, 0, 0, 0, 0, 0, 0, 0, 0, 0, 0, 0, 0, 0], 'attention_mask': [1, 1, 1, 1, 1, 1, 1, 1, 1, 1, 1, 1, 1, 1, 1, 1, 1, 1, 1, 1, 1, 1, 1, 1], 'labels': 1}\n"
          ]
        }
      ],
      "source": [
        "print(encoded_train_dataset[0])"
      ]
    },
    {
      "cell_type": "markdown",
      "id": "2a3a07a6",
      "metadata": {
        "id": "2a3a07a6"
      },
      "source": [
        "### 5.2.6 ミニバッチ構築"
      ]
    },
    {
      "cell_type": "code",
      "execution_count": 38,
      "id": "6203489d",
      "metadata": {
        "id": "6203489d"
      },
      "outputs": [],
      "source": [
        "from transformers import DataCollatorWithPadding\n",
        "\n",
        "data_collator = DataCollatorWithPadding(tokenizer=tokenizer)"
      ]
    },
    {
      "cell_type": "code",
      "execution_count": 39,
      "id": "3041d814",
      "metadata": {
        "colab": {
          "base_uri": "https://localhost:8080/"
        },
        "id": "3041d814",
        "outputId": "650bd34d-9573-4364-aa8b-dfa4ab54f294"
      },
      "outputs": [
        {
          "output_type": "stream",
          "name": "stdout",
          "text": [
            "{'attention_mask': torch.Size([4, 36]),\n",
            " 'input_ids': torch.Size([4, 36]),\n",
            " 'labels': torch.Size([4]),\n",
            " 'token_type_ids': torch.Size([4, 36])}\n"
          ]
        }
      ],
      "source": [
        "batch_inputs = data_collator(encoded_train_dataset[0:4])\n",
        "pprint({name: tensor.size() for name, tensor in batch_inputs.items()})"
      ]
    },
    {
      "cell_type": "markdown",
      "id": "81822ce0",
      "metadata": {
        "id": "81822ce0"
      },
      "source": [
        "### 5.2.7 モデルの準備"
      ]
    },
    {
      "cell_type": "code",
      "execution_count": 40,
      "id": "fd5e5f59",
      "metadata": {
        "colab": {
          "base_uri": "https://localhost:8080/"
        },
        "id": "fd5e5f59",
        "outputId": "00ec5a05-8310-44b1-f170-9db61cab722c"
      },
      "outputs": [
        {
          "output_type": "stream",
          "name": "stderr",
          "text": [
            "Some weights of BertForSequenceClassification were not initialized from the model checkpoint at cl-tohoku/bert-base-japanese-v3 and are newly initialized: ['classifier.bias', 'classifier.weight']\n",
            "You should probably TRAIN this model on a down-stream task to be able to use it for predictions and inference.\n"
          ]
        },
        {
          "output_type": "stream",
          "name": "stdout",
          "text": [
            "BertForSequenceClassification\n"
          ]
        }
      ],
      "source": [
        "from transformers import AutoModelForSequenceClassification\n",
        "\n",
        "class_label = train_dataset.features[\"label\"]\n",
        "label2id = {label: id for id, label in enumerate(class_label.names)}\n",
        "id2label = {id: label for id, label in enumerate(class_label.names)}\n",
        "model = AutoModelForSequenceClassification.from_pretrained(\n",
        "    model_name,\n",
        "    num_labels=class_label.num_classes,\n",
        "    label2id=label2id,  # ラベル名からIDへの対応を指定\n",
        "    id2label=id2label,  # IDからラベル名への対応を指定\n",
        ")\n",
        "print(type(model).__name__)\n",
        "\n",
        "# パラメータをメモリ上に隣接した形で配置\n",
        "# これを実行しない場合、モデルの保存でエラーになることがある\n",
        "for param in model.parameters():\n",
        "    param.data = param.data.contiguous()"
      ]
    },
    {
      "cell_type": "code",
      "execution_count": 41,
      "id": "bc3ef02e",
      "metadata": {
        "colab": {
          "base_uri": "https://localhost:8080/"
        },
        "id": "bc3ef02e",
        "outputId": "fca17b59-a2f8-4ee1-ad0d-a2acb8c7f62e"
      },
      "outputs": [
        {
          "output_type": "stream",
          "name": "stdout",
          "text": [
            "SequenceClassifierOutput(loss=tensor(0.8075, grad_fn=<NllLossBackward0>), logits=tensor([[ 0.2869, -0.2644],\n",
            "        [ 0.1715,  0.0095],\n",
            "        [ 0.0040,  0.1524],\n",
            "        [ 0.2233, -0.2968]], grad_fn=<AddmmBackward0>), hidden_states=None, attentions=None)\n"
          ]
        }
      ],
      "source": [
        "print(model.forward(**data_collator(encoded_train_dataset[0:4])))"
      ]
    },
    {
      "cell_type": "markdown",
      "id": "0bb81a95",
      "metadata": {
        "id": "0bb81a95"
      },
      "source": [
        "### 5.2.8 訓練の実行"
      ]
    },
    {
      "cell_type": "code",
      "source": [
        "from transformers import Trainer, TrainingArguments, TrainerCallback\n",
        "import torch\n",
        "\n",
        "# 定义自定义回调函数来打印学习率\n",
        "class LearningRateLogger(TrainerCallback):\n",
        "    def __init__(self):\n",
        "        self.lr_list = []\n",
        "\n",
        "    def on_step_end(self, args, state, control, optimizer=None, **kwargs):\n",
        "        # 获取当前学习率\n",
        "        if optimizer is not None:\n",
        "            current_lr = optimizer.param_groups[0]['lr']\n",
        "            # print(f\"Step {state.global_step}: Learning Rate = {current_lr:.6f}\")\n",
        "            self.lr_list.append(current_lr)\n",
        "\n",
        "    def get_lr_list(self):\n",
        "        return self.lr_list\n",
        "\n",
        "\n",
        "# 创建学习率日志记录器\n",
        "lr_logger = LearningRateLogger()"
      ],
      "metadata": {
        "id": "eM-NeUZva_iA"
      },
      "id": "eM-NeUZva_iA",
      "execution_count": 42,
      "outputs": []
    },
    {
      "cell_type": "code",
      "execution_count": 43,
      "id": "54cf1b63",
      "metadata": {
        "id": "54cf1b63",
        "outputId": "0a72e216-fb1b-4bd4-9f23-1eb04d980705",
        "colab": {
          "base_uri": "https://localhost:8080/"
        }
      },
      "outputs": [
        {
          "output_type": "stream",
          "name": "stderr",
          "text": [
            "/usr/local/lib/python3.10/dist-packages/transformers/training_args.py:1575: FutureWarning: `evaluation_strategy` is deprecated and will be removed in version 4.46 of 🤗 Transformers. Use `eval_strategy` instead\n",
            "  warnings.warn(\n"
          ]
        }
      ],
      "source": [
        "from transformers import TrainingArguments\n",
        "\n",
        "training_args = TrainingArguments(\n",
        "    output_dir=\"output_wrime\",  # 結果の保存フォルダ\n",
        "    per_device_train_batch_size=32,  # 訓練時のバッチサイズ\n",
        "    per_device_eval_batch_size=32,  # 評価時のバッチサイズ\n",
        "    learning_rate=2e-5,  # 学習率\n",
        "    lr_scheduler_type=\"linear\",  # 学習率スケジューラの種類\n",
        "    warmup_ratio=0.1,  # 学習率のウォームアップの長さを指定\n",
        "    num_train_epochs=3,  # エポック数\n",
        "    save_strategy=\"epoch\",  # チェックポイントの保存タイミング\n",
        "    logging_strategy=\"epoch\",  # ロギングのタイミング\n",
        "    evaluation_strategy=\"epoch\",  # 検証セットによる評価のタイミング\n",
        "    load_best_model_at_end=True,  # 訓練後に開発セットで最良のモデルをロード\n",
        "    metric_for_best_model=\"accuracy\",  # 最良のモデルを決定する評価指標\n",
        "    fp16=True,  # 自動混合精度演算の有効化\n",
        "    report_to=\"none\",  # 外部ツールへのログを無効化\n",
        ")"
      ]
    },
    {
      "cell_type": "code",
      "execution_count": 44,
      "id": "0323ffd8",
      "metadata": {
        "id": "0323ffd8"
      },
      "outputs": [],
      "source": [
        "import numpy as np\n",
        "\n",
        "def compute_accuracy(\n",
        "    eval_pred: tuple[np.ndarray, np.ndarray]\n",
        ") -> dict[str, float]:\n",
        "    \"\"\"予測ラベルと正解ラベルから正解率を計算\"\"\"\n",
        "    predictions, labels = eval_pred\n",
        "    # predictionsは各ラベルについてのスコア\n",
        "    # 最もスコアの高いインデックスを予測ラベルとする\n",
        "    predictions = np.argmax(predictions, axis=1)\n",
        "    return {\"accuracy\": (predictions == labels).mean()}"
      ]
    },
    {
      "cell_type": "code",
      "execution_count": 45,
      "id": "871c234d",
      "metadata": {
        "colab": {
          "base_uri": "https://localhost:8080/",
          "height": 222
        },
        "id": "871c234d",
        "outputId": "55b798a5-675c-41d4-94bc-ee8cd10f4a0d"
      },
      "outputs": [
        {
          "output_type": "display_data",
          "data": {
            "text/plain": [
              "<IPython.core.display.HTML object>"
            ],
            "text/html": [
              "\n",
              "    <div>\n",
              "      \n",
              "      <progress value='1890' max='1890' style='width:300px; height:20px; vertical-align: middle;'></progress>\n",
              "      [1890/1890 05:41, Epoch 3/3]\n",
              "    </div>\n",
              "    <table border=\"1\" class=\"dataframe\">\n",
              "  <thead>\n",
              " <tr style=\"text-align: left;\">\n",
              "      <th>Epoch</th>\n",
              "      <th>Training Loss</th>\n",
              "      <th>Validation Loss</th>\n",
              "      <th>Accuracy</th>\n",
              "    </tr>\n",
              "  </thead>\n",
              "  <tbody>\n",
              "    <tr>\n",
              "      <td>1</td>\n",
              "      <td>0.315800</td>\n",
              "      <td>0.178263</td>\n",
              "      <td>0.933458</td>\n",
              "    </tr>\n",
              "    <tr>\n",
              "      <td>2</td>\n",
              "      <td>0.139600</td>\n",
              "      <td>0.176402</td>\n",
              "      <td>0.941542</td>\n",
              "    </tr>\n",
              "    <tr>\n",
              "      <td>3</td>\n",
              "      <td>0.070800</td>\n",
              "      <td>0.234951</td>\n",
              "      <td>0.937189</td>\n",
              "    </tr>\n",
              "  </tbody>\n",
              "</table><p>"
            ]
          },
          "metadata": {}
        },
        {
          "output_type": "execute_result",
          "data": {
            "text/plain": [
              "TrainOutput(global_step=1890, training_loss=0.17538554075533752, metrics={'train_runtime': 342.0104, 'train_samples_per_second': 176.74, 'train_steps_per_second': 5.526, 'total_flos': 2736880683965940.0, 'train_loss': 0.17538554075533752, 'epoch': 3.0})"
            ]
          },
          "metadata": {},
          "execution_count": 45
        }
      ],
      "source": [
        "from transformers import Trainer\n",
        "\n",
        "trainer = Trainer(\n",
        "    model=model,\n",
        "    train_dataset=encoded_train_dataset,\n",
        "    eval_dataset=encoded_valid_dataset,\n",
        "    data_collator=data_collator,\n",
        "    args=training_args,\n",
        "    compute_metrics=compute_accuracy,\n",
        "    callbacks=[lr_logger],  # 添加自定义回调\n",
        ")\n",
        "trainer.train()\n",
        "\n"
      ]
    },
    {
      "cell_type": "code",
      "source": [
        "import pickle\n",
        "# 获取并打印所有学习率\n",
        "lr_list = lr_logger.get_lr_list()\n",
        "print(\"完整的学习率列表:\", lr_list)\n",
        "# with open(\"lr_list.pkl\", \"wb\") as f:\n",
        "#     pickle.dump(lr_list, f)\n",
        "\n",
        "# with open(\"lr_list.pkl\", \"rb\") as f:\n",
        "#     loaded_lr_list = pickle.load(f)\n",
        "# print(\"加载的学习率列表:\", loaded_lr_list)\n",
        "\n",
        "# 训练结束后打印优化器类型\n",
        "print(type(trainer.optimizer))\n",
        "print(\"使用的底层优化器:\", type(trainer.optimizer.optimizer))"
      ],
      "metadata": {
        "id": "qWy-1x6mbvCU",
        "outputId": "e492d1a5-6632-459b-a539-8f08981920f0",
        "colab": {
          "base_uri": "https://localhost:8080/"
        }
      },
      "id": "qWy-1x6mbvCU",
      "execution_count": 50,
      "outputs": [
        {
          "output_type": "stream",
          "name": "stdout",
          "text": [
            "完整的学习率列表: [1.0582010582010582e-07, 2.1164021164021165e-07, 3.174603174603175e-07, 4.232804232804233e-07, 5.291005291005291e-07, 6.34920634920635e-07, 7.407407407407407e-07, 8.465608465608466e-07, 9.523809523809525e-07, 1.0582010582010582e-06, 1.164021164021164e-06, 1.26984126984127e-06, 1.3756613756613758e-06, 1.4814814814814815e-06, 1.5873015873015873e-06, 1.6931216931216932e-06, 1.798941798941799e-06, 1.904761904761905e-06, 2.0105820105820108e-06, 2.1164021164021164e-06, 2.222222222222222e-06, 2.328042328042328e-06, 2.433862433862434e-06, 2.53968253968254e-06, 2.6455026455026455e-06, 2.7513227513227516e-06, 2.8571428571428573e-06, 2.962962962962963e-06, 3.068783068783069e-06, 3.1746031746031746e-06, 3.2804232804232807e-06, 3.3862433862433864e-06, 3.492063492063492e-06, 3.597883597883598e-06, 3.7037037037037037e-06, 3.80952380952381e-06, 3.9153439153439155e-06, 4.0211640211640215e-06, 4.126984126984127e-06, 4.232804232804233e-06, 4.338624338624339e-06, 4.444444444444444e-06, 4.55026455026455e-06, 4.656084656084656e-06, 4.761904761904762e-06, 4.867724867724868e-06, 4.973544973544974e-06, 5.07936507936508e-06, 5.185185185185185e-06, 5.291005291005291e-06, 5.396825396825397e-06, 5.502645502645503e-06, 5.6084656084656084e-06, 5.7142857142857145e-06, 5.820105820105821e-06, 5.925925925925926e-06, 6.031746031746032e-06, 6.137566137566138e-06, 6.243386243386243e-06, 6.349206349206349e-06, 6.455026455026455e-06, 6.560846560846561e-06, 6.666666666666667e-06, 6.772486772486773e-06, 6.878306878306879e-06, 6.984126984126984e-06, 7.08994708994709e-06, 7.195767195767196e-06, 7.301587301587301e-06, 7.4074074074074075e-06, 7.5132275132275136e-06, 7.61904761904762e-06, 7.724867724867726e-06, 7.830687830687831e-06, 7.936507936507936e-06, 8.042328042328043e-06, 8.148148148148148e-06, 8.253968253968254e-06, 8.35978835978836e-06, 8.465608465608466e-06, 8.571428571428571e-06, 8.677248677248678e-06, 8.783068783068783e-06, 8.888888888888888e-06, 8.994708994708995e-06, 9.1005291005291e-06, 9.206349206349207e-06, 9.312169312169313e-06, 9.312169312169313e-06, 9.417989417989418e-06, 9.523809523809525e-06, 9.62962962962963e-06, 9.735449735449735e-06, 9.841269841269842e-06, 9.947089947089947e-06, 1.0052910052910054e-05, 1.0052910052910054e-05, 1.015873015873016e-05, 1.0264550264550266e-05, 1.037037037037037e-05, 1.0476190476190477e-05, 1.0582010582010582e-05, 1.0687830687830689e-05, 1.0793650793650794e-05, 1.0899470899470901e-05, 1.1005291005291006e-05, 1.1111111111111113e-05, 1.1216931216931217e-05, 1.1322751322751324e-05, 1.1428571428571429e-05, 1.1534391534391536e-05, 1.1640211640211641e-05, 1.1746031746031748e-05, 1.1851851851851852e-05, 1.1957671957671959e-05, 1.2063492063492064e-05, 1.216931216931217e-05, 1.2275132275132276e-05, 1.2380952380952383e-05, 1.2486772486772486e-05, 1.2592592592592593e-05, 1.2698412698412699e-05, 1.2804232804232805e-05, 1.291005291005291e-05, 1.3015873015873018e-05, 1.3121693121693123e-05, 1.322751322751323e-05, 1.3333333333333333e-05, 1.343915343915344e-05, 1.3544973544973545e-05, 1.3650793650793652e-05, 1.3756613756613758e-05, 1.3862433862433865e-05, 1.3968253968253968e-05, 1.4074074074074075e-05, 1.417989417989418e-05, 1.4285714285714287e-05, 1.4391534391534392e-05, 1.44973544973545e-05, 1.4603174603174603e-05, 1.470899470899471e-05, 1.4814814814814815e-05, 1.4920634920634922e-05, 1.5026455026455027e-05, 1.5132275132275134e-05, 1.523809523809524e-05, 1.5343915343915344e-05, 1.544973544973545e-05, 1.555555555555556e-05, 1.5661375661375662e-05, 1.576719576719577e-05, 1.5873015873015872e-05, 1.597883597883598e-05, 1.597883597883598e-05, 1.6084656084656086e-05, 1.6190476190476193e-05, 1.6296296296296297e-05, 1.6402116402116404e-05, 1.6507936507936507e-05, 1.6613756613756614e-05, 1.671957671957672e-05, 1.6825396825396828e-05, 1.693121693121693e-05, 1.7037037037037038e-05, 1.7142857142857142e-05, 1.724867724867725e-05, 1.7354497354497356e-05, 1.7460317460317463e-05, 1.7566137566137566e-05, 1.7671957671957673e-05, 1.7777777777777777e-05, 1.7883597883597884e-05, 1.798941798941799e-05, 1.8095238095238097e-05, 1.82010582010582e-05, 1.8306878306878308e-05, 1.8412698412698415e-05, 1.851851851851852e-05, 1.8624338624338625e-05, 1.8730158730158732e-05, 1.8835978835978836e-05, 1.8941798941798943e-05, 1.904761904761905e-05, 1.9153439153439156e-05, 1.925925925925926e-05, 1.9365079365079367e-05, 1.947089947089947e-05, 1.9576719576719577e-05, 1.9682539682539684e-05, 1.978835978835979e-05, 1.9894179894179895e-05, 2e-05, 1.9988242210464436e-05, 1.9976484420928866e-05, 1.9964726631393297e-05, 1.995296884185773e-05, 1.9941211052322165e-05, 1.99294532627866e-05, 1.991769547325103e-05, 1.9905937683715464e-05, 1.9894179894179895e-05, 1.988242210464433e-05, 1.987066431510876e-05, 1.9858906525573194e-05, 1.9847148736037628e-05, 1.983539094650206e-05, 1.9823633156966492e-05, 1.9811875367430923e-05, 1.9800117577895357e-05, 1.978835978835979e-05, 1.9776601998824222e-05, 1.9764844209288656e-05, 1.9753086419753087e-05, 1.974132863021752e-05, 1.972957084068195e-05, 1.9717813051146385e-05, 1.970605526161082e-05, 1.9694297472075254e-05, 1.9682539682539684e-05, 1.9670781893004115e-05, 1.965902410346855e-05, 1.9647266313932983e-05, 1.9635508524397414e-05, 1.9623750734861848e-05, 1.961199294532628e-05, 1.9600235155790713e-05, 1.9588477366255147e-05, 1.9576719576719577e-05, 1.956496178718401e-05, 1.9553203997648445e-05, 1.9541446208112876e-05, 1.9529688418577307e-05, 1.951793062904174e-05, 1.9506172839506175e-05, 1.949441504997061e-05, 1.948265726043504e-05, 1.947089947089947e-05, 1.9459141681363904e-05, 1.944738389182834e-05, 1.943562610229277e-05, 1.9423868312757203e-05, 1.9412110523221637e-05, 1.9400352733686068e-05, 1.9388594944150502e-05, 1.9376837154614933e-05, 1.9365079365079367e-05, 1.93533215755438e-05, 1.934156378600823e-05, 1.9329805996472662e-05, 1.9318048206937096e-05, 1.930629041740153e-05, 1.929453262786596e-05, 1.9282774838330395e-05, 1.927101704879483e-05, 1.925925925925926e-05, 1.9247501469723694e-05, 1.9235743680188125e-05, 1.922398589065256e-05, 1.9212228101116993e-05, 1.9200470311581424e-05, 1.9188712522045854e-05, 1.9176954732510288e-05, 1.9165196942974722e-05, 1.9153439153439156e-05, 1.9141681363903587e-05, 1.912992357436802e-05, 1.9118165784832452e-05, 1.9106407995296886e-05, 1.9094650205761317e-05, 1.908289241622575e-05, 1.9071134626690185e-05, 1.905937683715462e-05, 1.904761904761905e-05, 1.903586125808348e-05, 1.9024103468547914e-05, 1.901234567901235e-05, 1.900058788947678e-05, 1.8988830099941213e-05, 1.8977072310405644e-05, 1.8965314520870078e-05, 1.8953556731334512e-05, 1.8941798941798943e-05, 1.8930041152263377e-05, 1.891828336272781e-05, 1.890652557319224e-05, 1.8894767783656672e-05, 1.8883009994121106e-05, 1.887125220458554e-05, 1.885949441504997e-05, 1.8847736625514405e-05, 1.8835978835978836e-05, 1.882422104644327e-05, 1.8812463256907704e-05, 1.8800705467372134e-05, 1.878894767783657e-05, 1.8777189888301003e-05, 1.8765432098765433e-05, 1.8753674309229864e-05, 1.8741916519694298e-05, 1.8730158730158732e-05, 1.8718400940623166e-05, 1.8706643151087597e-05, 1.8694885361552028e-05, 1.868312757201646e-05, 1.8671369782480896e-05, 1.8659611992945326e-05, 1.864785420340976e-05, 1.8636096413874195e-05, 1.8624338624338625e-05, 1.861258083480306e-05, 1.860082304526749e-05, 1.8589065255731924e-05, 1.8577307466196358e-05, 1.856554967666079e-05, 1.855379188712522e-05, 1.8542034097589654e-05, 1.8530276308054088e-05, 1.851851851851852e-05, 1.8506760728982952e-05, 1.8495002939447386e-05, 1.8483245149911817e-05, 1.847148736037625e-05, 1.8459729570840682e-05, 1.8447971781305116e-05, 1.843621399176955e-05, 1.842445620223398e-05, 1.8412698412698415e-05, 1.8400940623162845e-05, 1.838918283362728e-05, 1.8377425044091714e-05, 1.8365667254556144e-05, 1.835390946502058e-05, 1.834215167548501e-05, 1.8330393885949443e-05, 1.8318636096413874e-05, 1.8306878306878308e-05, 1.8295120517342742e-05, 1.8283362727807176e-05, 1.8271604938271607e-05, 1.8259847148736037e-05, 1.824808935920047e-05, 1.8236331569664905e-05, 1.8224573780129336e-05, 1.821281599059377e-05, 1.82010582010582e-05, 1.8189300411522635e-05, 1.817754262198707e-05, 1.81657848324515e-05, 1.8154027042915934e-05, 1.8142269253380368e-05, 1.81305114638448e-05, 1.811875367430923e-05, 1.8106995884773663e-05, 1.8095238095238097e-05, 1.808348030570253e-05, 1.8071722516166962e-05, 1.8059964726631393e-05, 1.8048206937095827e-05, 1.803644914756026e-05, 1.802469135802469e-05, 1.8012933568489126e-05, 1.800117577895356e-05, 1.798941798941799e-05, 1.7977660199882425e-05, 1.7965902410346855e-05, 1.795414462081129e-05, 1.7942386831275723e-05, 1.7930629041740154e-05, 1.7918871252204585e-05, 1.790711346266902e-05, 1.7895355673133453e-05, 1.7883597883597884e-05, 1.7871840094062318e-05, 1.786008230452675e-05, 1.7848324514991182e-05, 1.7836566725455616e-05, 1.7824808935920047e-05, 1.781305114638448e-05, 1.7801293356848915e-05, 1.7789535567313346e-05, 1.7777777777777777e-05, 1.776601998824221e-05, 1.7754262198706645e-05, 1.774250440917108e-05, 1.773074661963551e-05, 1.7718988830099944e-05, 1.7707231040564374e-05, 1.769547325102881e-05, 1.768371546149324e-05, 1.7671957671957673e-05, 1.7660199882422107e-05, 1.764844209288654e-05, 1.7636684303350972e-05, 1.7624926513815403e-05, 1.7613168724279837e-05, 1.760141093474427e-05, 1.75896531452087e-05, 1.7577895355673135e-05, 1.7566137566137566e-05, 1.7554379776602e-05, 1.7542621987066434e-05, 1.7530864197530865e-05, 1.75191064079953e-05, 1.7507348618459733e-05, 1.7495590828924164e-05, 1.7483833039388594e-05, 1.747207524985303e-05, 1.7460317460317463e-05, 1.7448559670781893e-05, 1.7436801881246327e-05, 1.7425044091710758e-05, 1.7413286302175192e-05, 1.7401528512639626e-05, 1.7389770723104057e-05, 1.737801293356849e-05, 1.7366255144032925e-05, 1.7354497354497356e-05, 1.7342739564961786e-05, 1.733098177542622e-05, 1.7319223985890655e-05, 1.730746619635509e-05, 1.729570840681952e-05, 1.728395061728395e-05, 1.7272192827748384e-05, 1.7260435038212818e-05, 1.724867724867725e-05, 1.7236919459141683e-05, 1.7225161669606117e-05, 1.7213403880070548e-05, 1.720164609053498e-05, 1.7189888300999412e-05, 1.7178130511463846e-05, 1.716637272192828e-05, 1.715461493239271e-05, 1.7142857142857142e-05, 1.7131099353321576e-05, 1.711934156378601e-05, 1.7107583774250444e-05, 1.7095825984714875e-05, 1.708406819517931e-05, 1.707231040564374e-05, 1.7060552616108174e-05, 1.7048794826572604e-05, 1.7037037037037038e-05, 1.7025279247501472e-05, 1.7013521457965903e-05, 1.7001763668430337e-05, 1.6990005878894768e-05, 1.6978248089359202e-05, 1.6966490299823636e-05, 1.6954732510288067e-05, 1.69429747207525e-05, 1.693121693121693e-05, 1.6919459141681365e-05, 1.6907701352145796e-05, 1.689594356261023e-05, 1.6884185773074664e-05, 1.68724279835391e-05, 1.686067019400353e-05, 1.684891240446796e-05, 1.6837154614932394e-05, 1.6825396825396828e-05, 1.681363903586126e-05, 1.6801881246325693e-05, 1.6790123456790123e-05, 1.6778365667254557e-05, 1.676660787771899e-05, 1.6754850088183422e-05, 1.6743092298647856e-05, 1.673133450911229e-05, 1.671957671957672e-05, 1.670781893004115e-05, 1.6696061140505586e-05, 1.668430335097002e-05, 1.6672545561434454e-05, 1.6660787771898885e-05, 1.6649029982363315e-05, 1.663727219282775e-05, 1.6625514403292183e-05, 1.6613756613756614e-05, 1.6601998824221048e-05, 1.6590241034685482e-05, 1.6578483245149913e-05, 1.6566725455614347e-05, 1.6554967666078778e-05, 1.654320987654321e-05, 1.6531452087007646e-05, 1.6519694297472076e-05, 1.6507936507936507e-05, 1.649617871840094e-05, 1.6484420928865375e-05, 1.6472663139329806e-05, 1.646090534979424e-05, 1.6449147560258674e-05, 1.6437389770723105e-05, 1.642563198118754e-05, 1.641387419165197e-05, 1.6402116402116404e-05, 1.6390358612580838e-05, 1.6378600823045268e-05, 1.63668430335097e-05, 1.6355085243974133e-05, 1.6343327454438567e-05, 1.6331569664903e-05, 1.6319811875367432e-05, 1.6308054085831866e-05, 1.6296296296296297e-05, 1.628453850676073e-05, 1.627278071722516e-05, 1.6261022927689595e-05, 1.624926513815403e-05, 1.6237507348618464e-05, 1.6225749559082894e-05, 1.6213991769547325e-05, 1.620223398001176e-05, 1.6190476190476193e-05, 1.6178718400940624e-05, 1.6166960611405058e-05, 1.615520282186949e-05, 1.6143445032333923e-05, 1.6131687242798357e-05, 1.6119929453262787e-05, 1.610817166372722e-05, 1.6096413874191655e-05, 1.6084656084656086e-05, 1.6072898295120517e-05, 1.606114050558495e-05, 1.6049382716049385e-05, 1.6037624926513816e-05, 1.602586713697825e-05, 1.601410934744268e-05, 1.6002351557907114e-05, 1.599059376837155e-05, 1.597883597883598e-05, 1.5967078189300413e-05, 1.5955320399764847e-05, 1.5943562610229278e-05, 1.593180482069371e-05, 1.5920047031158143e-05, 1.5908289241622577e-05, 1.589653145208701e-05, 1.588477366255144e-05, 1.5873015873015872e-05, 1.5861258083480306e-05, 1.584950029394474e-05, 1.583774250440917e-05, 1.5825984714873605e-05, 1.581422692533804e-05, 1.580246913580247e-05, 1.5790711346266904e-05, 1.5778953556731335e-05, 1.576719576719577e-05, 1.5755437977660203e-05, 1.5743680188124634e-05, 1.5731922398589064e-05, 1.5720164609053498e-05, 1.5708406819517932e-05, 1.5696649029982366e-05, 1.5684891240446797e-05, 1.567313345091123e-05, 1.5661375661375662e-05, 1.5649617871840096e-05, 1.5637860082304527e-05, 1.562610229276896e-05, 1.5614344503233395e-05, 1.5602586713697825e-05, 1.559082892416226e-05, 1.557907113462669e-05, 1.5567313345091124e-05, 1.555555555555556e-05, 1.554379776601999e-05, 1.5532039976484423e-05, 1.5520282186948854e-05, 1.5508524397413288e-05, 1.549676660787772e-05, 1.5485008818342153e-05, 1.5473251028806587e-05, 1.546149323927102e-05, 1.544973544973545e-05, 1.5437977660199882e-05, 1.5426219870664316e-05, 1.541446208112875e-05, 1.540270429159318e-05, 1.5390946502057615e-05, 1.5379188712522046e-05, 1.536743092298648e-05, 1.5355673133450914e-05, 1.5343915343915344e-05, 1.533215755437978e-05, 1.5320399764844213e-05, 1.5308641975308643e-05, 1.5296884185773074e-05, 1.5285126396237508e-05, 1.5273368606701942e-05, 1.5261610817166376e-05, 1.5249853027630807e-05, 1.523809523809524e-05, 1.5226337448559672e-05, 1.5214579659024104e-05, 1.5202821869488538e-05, 1.519106407995297e-05, 1.5179306290417405e-05, 1.5167548500881835e-05, 1.5155790711346268e-05, 1.51440329218107e-05, 1.5132275132275134e-05, 1.5120517342739566e-05, 1.5108759553204e-05, 1.5097001763668431e-05, 1.5085243974132864e-05, 1.5073486184597298e-05, 1.506172839506173e-05, 1.5049970605526162e-05, 1.5038212815990596e-05, 1.5026455026455027e-05, 1.501469723691946e-05, 1.5002939447383894e-05, 1.4991181657848326e-05, 1.4979423868312758e-05, 1.4967666078777192e-05, 1.4955908289241623e-05, 1.4944150499706055e-05, 1.493239271017049e-05, 1.4920634920634922e-05, 1.4908877131099356e-05, 1.4897119341563788e-05, 1.4885361552028219e-05, 1.4873603762492651e-05, 1.4861845972957085e-05, 1.4850088183421518e-05, 1.4838330393885952e-05, 1.4826572604350384e-05, 1.4814814814814815e-05, 1.4803057025279249e-05, 1.4791299235743681e-05, 1.4779541446208114e-05, 1.4767783656672548e-05, 1.475602586713698e-05, 1.4744268077601411e-05, 1.4732510288065845e-05, 1.4720752498530277e-05, 1.470899470899471e-05, 1.4697236919459144e-05, 1.4685479129923576e-05, 1.4673721340388007e-05, 1.4661963550852441e-05, 1.4650205761316873e-05, 1.4638447971781307e-05, 1.462669018224574e-05, 1.4614932392710172e-05, 1.4603174603174603e-05, 1.4591416813639037e-05, 1.457965902410347e-05, 1.4567901234567903e-05, 1.4556143445032336e-05, 1.4544385655496768e-05, 1.45326278659612e-05, 1.4520870076425633e-05, 1.4509112286890065e-05, 1.44973544973545e-05, 1.4485596707818932e-05, 1.4473838918283366e-05, 1.4462081128747796e-05, 1.4450323339212229e-05, 1.4438565549676661e-05, 1.4426807760141095e-05, 1.4415049970605528e-05, 1.4403292181069962e-05, 1.4391534391534392e-05, 1.4379776601998825e-05, 1.4368018812463259e-05, 1.4356261022927691e-05, 1.4344503233392124e-05, 1.4332745443856558e-05, 1.4320987654320988e-05, 1.430922986478542e-05, 1.4297472075249855e-05, 1.4285714285714287e-05, 1.427395649617872e-05, 1.4262198706643154e-05, 1.4250440917107584e-05, 1.4238683127572017e-05, 1.422692533803645e-05, 1.4215167548500883e-05, 1.4203409758965317e-05, 1.419165196942975e-05, 1.417989417989418e-05, 1.4168136390358613e-05, 1.4156378600823047e-05, 1.4144620811287479e-05, 1.4132863021751913e-05, 1.4121105232216345e-05, 1.4109347442680776e-05, 1.409758965314521e-05, 1.4085831863609643e-05, 1.4074074074074075e-05, 1.4062316284538509e-05, 1.4050558495002941e-05, 1.4038800705467372e-05, 1.4027042915931806e-05, 1.4015285126396239e-05, 1.4003527336860671e-05, 1.3991769547325105e-05, 1.3980011757789537e-05, 1.3968253968253968e-05, 1.3956496178718402e-05, 1.3944738389182834e-05, 1.3932980599647269e-05, 1.3921222810111701e-05, 1.3909465020576133e-05, 1.3897707231040564e-05, 1.3885949441504998e-05, 1.387419165196943e-05, 1.3862433862433865e-05, 1.3850676072898297e-05, 1.383891828336273e-05, 1.3827160493827162e-05, 1.3815402704291594e-05, 1.3803644914756026e-05, 1.379188712522046e-05, 1.3780129335684893e-05, 1.3768371546149327e-05, 1.3756613756613758e-05, 1.374485596707819e-05, 1.3733098177542622e-05, 1.3721340388007056e-05, 1.3709582598471489e-05, 1.3697824808935923e-05, 1.3686067019400354e-05, 1.3674309229864786e-05, 1.366255144032922e-05, 1.3650793650793652e-05, 1.3639035861258085e-05, 1.3627278071722519e-05, 1.361552028218695e-05, 1.3603762492651382e-05, 1.3592004703115816e-05, 1.3580246913580248e-05, 1.356848912404468e-05, 1.3556731334509115e-05, 1.3544973544973545e-05, 1.3533215755437978e-05, 1.3521457965902412e-05, 1.3509700176366844e-05, 1.3497942386831278e-05, 1.348618459729571e-05, 1.3474426807760141e-05, 1.3462669018224574e-05, 1.3450911228689008e-05, 1.343915343915344e-05, 1.3427395649617874e-05, 1.3415637860082307e-05, 1.3403880070546737e-05, 1.3392122281011171e-05, 1.3380364491475604e-05, 1.3368606701940036e-05, 1.335684891240447e-05, 1.3345091122868903e-05, 1.3333333333333333e-05, 1.3321575543797767e-05, 1.33098177542622e-05, 1.3298059964726632e-05, 1.3286302175191066e-05, 1.3274544385655497e-05, 1.326278659611993e-05, 1.3251028806584363e-05, 1.3239271017048796e-05, 1.322751322751323e-05, 1.3215755437977662e-05, 1.3203997648442093e-05, 1.3192239858906525e-05, 1.318048206937096e-05, 1.3168724279835392e-05, 1.3156966490299826e-05, 1.3145208700764258e-05, 1.3133450911228689e-05, 1.3121693121693123e-05, 1.3109935332157555e-05, 1.3098177542621988e-05, 1.3086419753086422e-05, 1.3074661963550854e-05, 1.3062904174015285e-05, 1.3051146384479719e-05, 1.3039388594944151e-05, 1.3027630805408584e-05, 1.3015873015873018e-05, 1.300411522633745e-05, 1.299235743680188e-05, 1.2980599647266315e-05, 1.2968841857730747e-05, 1.2957084068195181e-05, 1.2945326278659614e-05, 1.2933568489124046e-05, 1.2921810699588477e-05, 1.291005291005291e-05, 1.2898295120517343e-05, 1.2886537330981777e-05, 1.287477954144621e-05, 1.2863021751910642e-05, 1.2851263962375074e-05, 1.2839506172839507e-05, 1.2827748383303939e-05, 1.2815990593768373e-05, 1.2804232804232805e-05, 1.279247501469724e-05, 1.278071722516167e-05, 1.2768959435626103e-05, 1.2757201646090535e-05, 1.2745443856554969e-05, 1.2733686067019401e-05, 1.2721928277483835e-05, 1.2710170487948266e-05, 1.2698412698412699e-05, 1.2686654908877133e-05, 1.2674897119341565e-05, 1.2663139329805997e-05, 1.2651381540270431e-05, 1.2639623750734862e-05, 1.2627865961199294e-05, 1.2616108171663729e-05, 1.2604350382128161e-05, 1.2592592592592593e-05, 1.2580834803057027e-05, 1.2569077013521458e-05, 1.255731922398589e-05, 1.2545561434450325e-05, 1.2533803644914757e-05, 1.2522045855379191e-05, 1.2510288065843623e-05, 1.2498530276308054e-05, 1.2486772486772486e-05, 1.247501469723692e-05, 1.2463256907701353e-05, 1.2451499118165787e-05, 1.243974132863022e-05, 1.242798353909465e-05, 1.2416225749559084e-05, 1.2404467960023516e-05, 1.2392710170487949e-05, 1.2380952380952383e-05, 1.2369194591416815e-05, 1.2357436801881246e-05, 1.234567901234568e-05, 1.2333921222810112e-05, 1.2322163433274545e-05, 1.2310405643738979e-05, 1.2298647854203411e-05, 1.2286890064667842e-05, 1.2275132275132276e-05, 1.2263374485596708e-05, 1.2251616696061142e-05, 1.2239858906525575e-05, 1.2228101116990007e-05, 1.2216343327454438e-05, 1.2204585537918872e-05, 1.2192827748383304e-05, 1.2181069958847738e-05, 1.216931216931217e-05, 1.2157554379776603e-05, 1.2145796590241035e-05, 1.2134038800705468e-05, 1.21222810111699e-05, 1.2110523221634334e-05, 1.2098765432098767e-05, 1.20870076425632e-05, 1.2075249853027631e-05, 1.2063492063492064e-05, 1.2051734273956496e-05, 1.203997648442093e-05, 1.2028218694885363e-05, 1.2016460905349797e-05, 1.2004703115814227e-05, 1.199294532627866e-05, 1.1981187536743094e-05, 1.1969429747207526e-05, 1.1957671957671959e-05, 1.1945914168136393e-05, 1.1934156378600823e-05, 1.1922398589065256e-05, 1.191064079952969e-05, 1.1898883009994122e-05, 1.1887125220458555e-05, 1.1875367430922989e-05, 1.186360964138742e-05, 1.1851851851851852e-05, 1.1840094062316286e-05, 1.1828336272780718e-05, 1.1816578483245152e-05, 1.1804820693709585e-05, 1.1793062904174015e-05, 1.1781305114638448e-05, 1.1769547325102882e-05, 1.1757789535567314e-05, 1.1746031746031748e-05, 1.173427395649618e-05, 1.1722516166960611e-05, 1.1710758377425045e-05, 1.1699000587889478e-05, 1.168724279835391e-05, 1.1675485008818344e-05, 1.1663727219282776e-05, 1.1651969429747207e-05, 1.1640211640211641e-05, 1.1628453850676074e-05, 1.1616696061140506e-05, 1.160493827160494e-05, 1.1593180482069372e-05, 1.1581422692533803e-05, 1.1569664902998237e-05, 1.155790711346267e-05, 1.1546149323927104e-05, 1.1534391534391536e-05, 1.1522633744855968e-05, 1.1510875955320399e-05, 1.1499118165784833e-05, 1.1487360376249265e-05, 1.14756025867137e-05, 1.1463844797178132e-05, 1.1452087007642564e-05, 1.1440329218106997e-05, 1.1428571428571429e-05, 1.1416813639035861e-05, 1.1405055849500295e-05, 1.1393298059964728e-05, 1.1381540270429162e-05, 1.1369782480893593e-05, 1.1358024691358025e-05, 1.1346266901822457e-05, 1.1334509112286891e-05, 1.1322751322751324e-05, 1.1310993533215758e-05, 1.1299235743680189e-05, 1.1287477954144621e-05, 1.1275720164609055e-05, 1.1263962375073487e-05, 1.125220458553792e-05, 1.1240446796002354e-05, 1.1228689006466784e-05, 1.1216931216931217e-05, 1.1205173427395651e-05, 1.1193415637860083e-05, 1.1181657848324516e-05, 1.116990005878895e-05, 1.115814226925338e-05, 1.1146384479717813e-05, 1.1134626690182247e-05, 1.112286890064668e-05, 1.1111111111111113e-05, 1.1099353321575546e-05, 1.1087595532039976e-05, 1.1075837742504409e-05, 1.1064079952968843e-05, 1.1052322163433275e-05, 1.104056437389771e-05, 1.1028806584362142e-05, 1.1017048794826572e-05, 1.1005291005291006e-05, 1.0993533215755439e-05, 1.0981775426219871e-05, 1.0970017636684305e-05, 1.0958259847148738e-05, 1.0946502057613168e-05, 1.0934744268077602e-05, 1.0922986478542035e-05, 1.0911228689006467e-05, 1.0899470899470901e-05, 1.0887713109935334e-05, 1.0875955320399764e-05, 1.0864197530864198e-05, 1.085243974132863e-05, 1.0840681951793065e-05, 1.0828924162257497e-05, 1.081716637272193e-05, 1.080540858318636e-05, 1.0793650793650794e-05, 1.0781893004115227e-05, 1.077013521457966e-05, 1.0758377425044093e-05, 1.0746619635508525e-05, 1.0734861845972958e-05, 1.072310405643739e-05, 1.0711346266901823e-05, 1.0699588477366257e-05, 1.0687830687830689e-05, 1.0676072898295123e-05, 1.0664315108759554e-05, 1.0652557319223986e-05, 1.0640799529688419e-05, 1.0629041740152853e-05, 1.0617283950617285e-05, 1.0605526161081719e-05, 1.059376837154615e-05, 1.0582010582010582e-05, 1.0570252792475016e-05, 1.0558495002939449e-05, 1.0546737213403881e-05, 1.0534979423868315e-05, 1.0523221634332746e-05, 1.0511463844797178e-05, 1.0499706055261612e-05, 1.0487948265726045e-05, 1.0476190476190477e-05, 1.0464432686654911e-05, 1.0452674897119342e-05, 1.0440917107583774e-05, 1.0429159318048208e-05, 1.041740152851264e-05, 1.0405643738977075e-05, 1.0393885949441507e-05, 1.0382128159905938e-05, 1.037037037037037e-05, 1.0358612580834804e-05, 1.0346854791299236e-05, 1.033509700176367e-05, 1.0323339212228103e-05, 1.0311581422692534e-05, 1.0299823633156968e-05, 1.02880658436214e-05, 1.0276308054085832e-05, 1.0264550264550266e-05, 1.0252792475014699e-05, 1.024103468547913e-05, 1.0229276895943564e-05, 1.0217519106407996e-05, 1.0205761316872428e-05, 1.0194003527336862e-05, 1.0182245737801295e-05, 1.0170487948265725e-05, 1.015873015873016e-05, 1.0146972369194592e-05, 1.0135214579659026e-05, 1.0123456790123458e-05, 1.011169900058789e-05, 1.0099941211052321e-05, 1.0088183421516755e-05, 1.0076425631981188e-05, 1.0064667842445622e-05, 1.0052910052910054e-05, 1.0041152263374487e-05, 1.0029394473838917e-05, 1.0017636684303351e-05, 1.0005878894767784e-05, 9.994121105232218e-06, 9.982363315696649e-06, 9.970605526161083e-06, 9.958847736625515e-06, 9.947089947089947e-06, 9.93533215755438e-06, 9.923574368018814e-06, 9.911816578483246e-06, 9.900058788947679e-06, 9.888300999412111e-06, 9.876543209876543e-06, 9.864785420340976e-06, 9.85302763080541e-06, 9.841269841269842e-06, 9.829512051734275e-06, 9.817754262198707e-06, 9.80599647266314e-06, 9.794238683127573e-06, 9.782480893592006e-06, 9.770723104056438e-06, 9.75896531452087e-06, 9.747207524985305e-06, 9.735449735449735e-06, 9.72369194591417e-06, 9.711934156378602e-06, 9.700176366843034e-06, 9.688418577307466e-06, 9.6766607877719e-06, 9.664902998236331e-06, 9.653145208700765e-06, 9.641387419165198e-06, 9.62962962962963e-06, 9.617871840094062e-06, 9.606114050558496e-06, 9.594356261022927e-06, 9.582598471487361e-06, 9.570840681951794e-06, 9.559082892416226e-06, 9.547325102880658e-06, 9.535567313345092e-06, 9.523809523809525e-06, 9.512051734273957e-06, 9.50029394473839e-06, 9.488536155202822e-06, 9.476778365667256e-06, 9.465020576131688e-06, 9.45326278659612e-06, 9.441504997060553e-06, 9.429747207524985e-06, 9.417989417989418e-06, 9.406231628453852e-06, 9.394473838918284e-06, 9.382716049382717e-06, 9.370958259847149e-06, 9.359200470311583e-06, 9.347442680776014e-06, 9.335684891240448e-06, 9.32392710170488e-06, 9.312169312169313e-06, 9.300411522633745e-06, 9.288653733098179e-06, 9.27689594356261e-06, 9.265138154027044e-06, 9.253380364491476e-06, 9.241622574955909e-06, 9.229864785420341e-06, 9.218106995884775e-06, 9.206349206349207e-06, 9.19459141681364e-06, 9.182833627278072e-06, 9.171075837742504e-06, 9.159318048206937e-06, 9.147560258671371e-06, 9.135802469135803e-06, 9.124044679600236e-06, 9.112286890064668e-06, 9.1005291005291e-06, 9.088771310993535e-06, 9.077013521457967e-06, 9.0652557319224e-06, 9.053497942386832e-06, 9.041740152851266e-06, 9.029982363315696e-06, 9.01822457378013e-06, 9.006466784244563e-06, 8.994708994708995e-06, 8.982951205173428e-06, 8.971193415637862e-06, 8.959435626102292e-06, 8.947677836566726e-06, 8.935920047031159e-06, 8.924162257495591e-06, 8.912404467960024e-06, 8.900646678424458e-06, 8.888888888888888e-06, 8.877131099353322e-06, 8.865373309817755e-06, 8.853615520282187e-06, 8.84185773074662e-06, 8.830099941211054e-06, 8.818342151675486e-06, 8.806584362139918e-06, 8.79482657260435e-06, 8.783068783068783e-06, 8.771310993533217e-06, 8.75955320399765e-06, 8.747795414462082e-06, 8.736037624926514e-06, 8.724279835390947e-06, 8.712522045855379e-06, 8.700764256319813e-06, 8.689006466784245e-06, 8.677248677248678e-06, 8.66549088771311e-06, 8.653733098177544e-06, 8.641975308641975e-06, 8.630217519106409e-06, 8.618459729570841e-06, 8.606701940035274e-06, 8.594944150499706e-06, 8.58318636096414e-06, 8.571428571428571e-06, 8.559670781893005e-06, 8.547912992357437e-06, 8.53615520282187e-06, 8.524397413286302e-06, 8.512639623750736e-06, 8.500881834215169e-06, 8.489124044679601e-06, 8.477366255144033e-06, 8.465608465608466e-06, 8.453850676072898e-06, 8.442092886537332e-06, 8.430335097001765e-06, 8.418577307466197e-06, 8.40681951793063e-06, 8.395061728395062e-06, 8.383303938859496e-06, 8.371546149323928e-06, 8.35978835978836e-06, 8.348030570252793e-06, 8.336272780717227e-06, 8.324514991181658e-06, 8.312757201646092e-06, 8.300999412110524e-06, 8.289241622574956e-06, 8.277483833039389e-06, 8.265726043503823e-06, 8.253968253968254e-06, 8.242210464432688e-06, 8.23045267489712e-06, 8.218694885361552e-06, 8.206937095825985e-06, 8.195179306290419e-06, 8.18342151675485e-06, 8.171663727219284e-06, 8.159905937683716e-06, 8.148148148148148e-06, 8.13639035861258e-06, 8.124632569077015e-06, 8.112874779541447e-06, 8.10111699000588e-06, 8.089359200470312e-06, 8.077601410934744e-06, 8.065843621399178e-06, 8.05408583186361e-06, 8.042328042328043e-06, 8.030570252792475e-06, 8.018812463256908e-06, 8.00705467372134e-06, 7.995296884185774e-06, 7.983539094650207e-06, 7.971781305114639e-06, 7.960023515579071e-06, 7.948265726043505e-06, 7.936507936507936e-06, 7.92475014697237e-06, 7.912992357436803e-06, 7.901234567901235e-06, 7.889476778365667e-06, 7.877718988830101e-06, 7.865961199294532e-06, 7.854203409758966e-06, 7.842445620223399e-06, 7.830687830687831e-06, 7.818930041152263e-06, 7.807172251616697e-06, 7.79541446208113e-06, 7.783656672545562e-06, 7.771898883009995e-06, 7.760141093474427e-06, 7.74838330393886e-06, 7.736625514403293e-06, 7.724867724867726e-06, 7.713109935332158e-06, 7.70135214579659e-06, 7.689594356261023e-06, 7.677836566725457e-06, 7.66607877718989e-06, 7.654320987654322e-06, 7.642563198118754e-06, 7.630805408583188e-06, 7.61904761904762e-06, 7.607289829512052e-06, 7.595532039976485e-06, 7.583774250440918e-06, 7.57201646090535e-06, 7.560258671369783e-06, 7.548500881834216e-06, 7.536743092298649e-06, 7.524985302763081e-06, 7.5132275132275136e-06, 7.501469723691947e-06, 7.489711934156379e-06, 7.4779541446208115e-06, 7.466196355085245e-06, 7.454438565549678e-06, 7.4426807760141095e-06, 7.430922986478543e-06, 7.419165196942976e-06, 7.4074074074074075e-06, 7.395649617871841e-06, 7.383891828336274e-06, 7.3721340388007055e-06, 7.360376249265139e-06, 7.348618459729572e-06, 7.3368606701940034e-06, 7.325102880658437e-06, 7.31334509112287e-06, 7.301587301587301e-06, 7.289829512051735e-06, 7.278071722516168e-06, 7.2663139329806e-06, 7.254556143445033e-06, 7.242798353909466e-06, 7.231040564373898e-06, 7.219282774838331e-06, 7.207524985302764e-06, 7.195767195767196e-06, 7.184009406231629e-06, 7.172251616696062e-06, 7.160493827160494e-06, 7.148736037624927e-06, 7.13697824808936e-06, 7.125220458553792e-06, 7.113462669018225e-06, 7.1017048794826586e-06, 7.08994708994709e-06, 7.078189300411523e-06, 7.0664315108759565e-06, 7.054673721340388e-06, 7.042915931804821e-06, 7.0311581422692545e-06, 7.019400352733686e-06, 7.007642563198119e-06, 6.9958847736625525e-06, 6.984126984126984e-06, 6.972369194591417e-06, 6.9606114050558505e-06, 6.948853615520282e-06, 6.937095825984715e-06, 6.9253380364491484e-06, 6.913580246913581e-06, 6.901822457378013e-06, 6.890064667842446e-06, 6.878306878306879e-06, 6.866549088771311e-06, 6.854791299235744e-06, 6.843033509700177e-06, 6.83127572016461e-06, 6.819517930629042e-06, 6.807760141093475e-06, 6.796002351557908e-06, 6.78424456202234e-06, 6.772486772486773e-06, 6.760728982951206e-06, 6.748971193415639e-06, 6.737213403880071e-06, 6.725455614344504e-06, 6.713697824808937e-06, 6.701940035273369e-06, 6.690182245737802e-06, 6.678424456202235e-06, 6.666666666666667e-06, 6.6549088771311e-06, 6.643151087595533e-06, 6.631393298059965e-06, 6.619635508524398e-06, 6.607877718988831e-06, 6.596119929453263e-06, 6.584362139917696e-06, 6.572604350382129e-06, 6.560846560846561e-06, 6.549088771310994e-06, 6.537330981775427e-06, 6.525573192239859e-06, 6.513815402704292e-06, 6.502057613168725e-06, 6.490299823633157e-06, 6.478542034097591e-06, 6.466784244562023e-06, 6.455026455026455e-06, 6.4432686654908886e-06, 6.431510875955321e-06, 6.419753086419753e-06, 6.4079952968841865e-06, 6.39623750734862e-06, 6.384479717813051e-06, 6.3727219282774845e-06, 6.360964138741918e-06, 6.349206349206349e-06, 6.3374485596707825e-06, 6.325690770135216e-06, 6.313932980599647e-06, 6.3021751910640805e-06, 6.290417401528514e-06, 6.278659611992945e-06, 6.2669018224573784e-06, 6.255144032921812e-06, 6.243386243386243e-06, 6.231628453850676e-06, 6.21987066431511e-06, 6.208112874779542e-06, 6.196355085243974e-06, 6.184597295708408e-06, 6.17283950617284e-06, 6.161081716637272e-06, 6.149323927101706e-06, 6.137566137566138e-06, 6.125808348030571e-06, 6.1140505584950036e-06, 6.102292768959436e-06, 6.090534979423869e-06, 6.0787771898883015e-06, 6.067019400352734e-06, 6.055261610817167e-06, 6.0435038212816e-06, 6.031746031746032e-06, 6.019988242210465e-06, 6.008230452674898e-06, 5.99647266313933e-06, 5.984714873603763e-06, 5.972957084068196e-06, 5.961199294532628e-06, 5.949441504997061e-06, 5.937683715461494e-06, 5.925925925925926e-06, 5.914168136390359e-06, 5.902410346854792e-06, 5.890652557319224e-06, 5.878894767783657e-06, 5.86713697824809e-06, 5.855379188712523e-06, 5.843621399176955e-06, 5.831863609641388e-06, 5.820105820105821e-06, 5.808348030570253e-06, 5.796590241034686e-06, 5.7848324514991186e-06, 5.773074661963552e-06, 5.761316872427984e-06, 5.7495590828924165e-06, 5.73780129335685e-06, 5.726043503821282e-06, 5.7142857142857145e-06, 5.702527924750148e-06, 5.690770135214581e-06, 5.6790123456790125e-06, 5.667254556143446e-06, 5.655496766607879e-06, 5.6437389770723105e-06, 5.631981187536744e-06, 5.620223398001177e-06, 5.6084656084656084e-06, 5.596707818930042e-06, 5.584950029394475e-06, 5.573192239858906e-06, 5.56143445032334e-06, 5.549676660787773e-06, 5.537918871252204e-06, 5.526161081716638e-06, 5.514403292181071e-06, 5.502645502645503e-06, 5.490887713109936e-06, 5.479129923574369e-06, 5.467372134038801e-06, 5.4556143445032336e-06, 5.443856554967667e-06, 5.432098765432099e-06, 5.420340975896532e-06, 5.408583186360965e-06, 5.396825396825397e-06, 5.38506760728983e-06, 5.373309817754263e-06, 5.361552028218695e-06, 5.349794238683128e-06, 5.3380364491475616e-06, 5.326278659611993e-06, 5.314520870076426e-06, 5.3027630805408595e-06, 5.291005291005291e-06, 5.279247501469724e-06, 5.2674897119341575e-06, 5.255731922398589e-06, 5.243974132863022e-06, 5.2322163433274555e-06, 5.220458553791887e-06, 5.20870076425632e-06, 5.1969429747207535e-06, 5.185185185185185e-06, 5.173427395649618e-06, 5.1616696061140514e-06, 5.149911816578484e-06, 5.138154027042916e-06, 5.126396237507349e-06, 5.114638447971782e-06, 5.102880658436214e-06, 5.091122868900647e-06, 5.07936507936508e-06, 5.067607289829513e-06, 5.055849500293945e-06, 5.044091710758378e-06, 5.032333921222811e-06, 5.020576131687243e-06, 5.008818342151676e-06, 4.997060552616109e-06, 4.985302763080541e-06, 4.973544973544974e-06, 4.961787184009407e-06, 4.950029394473839e-06, 4.938271604938272e-06, 4.926513815402705e-06, 4.914756025867137e-06, 4.90299823633157e-06, 4.891240446796003e-06, 4.879482657260435e-06, 4.867724867724868e-06, 4.855967078189301e-06, 4.844209288653733e-06, 4.832451499118166e-06, 4.820693709582599e-06, 4.808935920047031e-06, 4.7971781305114636e-06, 4.785420340975897e-06, 4.773662551440329e-06, 4.761904761904762e-06, 4.750146972369195e-06, 4.738389182833628e-06, 4.72663139329806e-06, 4.714873603762493e-06, 4.703115814226926e-06, 4.691358024691358e-06, 4.6796002351557915e-06, 4.667842445620224e-06, 4.656084656084656e-06, 4.6443268665490895e-06, 4.632569077013522e-06, 4.620811287477954e-06, 4.6090534979423875e-06, 4.59729570840682e-06, 4.585537918871252e-06, 4.5737801293356855e-06, 4.562022339800118e-06, 4.55026455026455e-06, 4.5385067607289834e-06, 4.526748971193416e-06, 4.514991181657848e-06, 4.503233392122281e-06, 4.491475602586714e-06, 4.479717813051146e-06, 4.467960023515579e-06, 4.456202233980012e-06, 4.444444444444444e-06, 4.432686654908877e-06, 4.42092886537331e-06, 4.409171075837743e-06, 4.397413286302175e-06, 4.3856554967666086e-06, 4.373897707231041e-06, 4.362139917695473e-06, 4.3503821281599065e-06, 4.338624338624339e-06, 4.326866549088772e-06, 4.3151087595532045e-06, 4.303350970017637e-06, 4.29159318048207e-06, 4.2798353909465025e-06, 4.268077601410935e-06, 4.256319811875368e-06, 4.2445620223398005e-06, 4.232804232804233e-06, 4.221046443268666e-06, 4.2092886537330984e-06, 4.197530864197531e-06, 4.185773074661964e-06, 4.174015285126396e-06, 4.162257495590829e-06, 4.150499706055262e-06, 4.138741916519694e-06, 4.126984126984127e-06, 4.11522633744856e-06, 4.103468547912992e-06, 4.091710758377425e-06, 4.079952968841858e-06, 4.06819517930629e-06, 4.0564373897707236e-06, 4.044679600235156e-06, 4.032921810699589e-06, 4.0211640211640215e-06, 4.009406231628454e-06, 3.997648442092887e-06, 3.9858906525573195e-06, 3.974132863021753e-06, 3.962375073486185e-06, 3.9506172839506175e-06, 3.938859494415051e-06, 3.927101704879483e-06, 3.9153439153439155e-06, 3.903586125808349e-06, 3.891828336272781e-06, 3.8800705467372134e-06, 3.868312757201647e-06, 3.856554967666079e-06, 3.844797178130511e-06, 3.833039388594945e-06, 3.821281599059377e-06, 3.80952380952381e-06, 3.7977660199882426e-06, 3.786008230452675e-06, 3.774250440917108e-06, 3.7624926513815406e-06, 3.7507348618459734e-06, 3.7389770723104058e-06, 3.727219282774839e-06, 3.7154614932392714e-06, 3.7037037037037037e-06, 3.691945914168137e-06, 3.6801881246325693e-06, 3.6684303350970017e-06, 3.656672545561435e-06, 3.6449147560258673e-06, 3.6331569664903e-06, 3.621399176954733e-06, 3.6096413874191653e-06, 3.597883597883598e-06, 3.586125808348031e-06, 3.5743680188124637e-06, 3.562610229276896e-06, 3.5508524397413293e-06, 3.5390946502057617e-06, 3.527336860670194e-06, 3.5155790711346273e-06, 3.5038212815990596e-06, 3.492063492063492e-06, 3.4803057025279252e-06, 3.4685479129923576e-06, 3.4567901234567904e-06, 3.445032333921223e-06, 3.4332745443856556e-06, 3.4215167548500884e-06, 3.409758965314521e-06, 3.398001175778954e-06, 3.3862433862433864e-06, 3.3744855967078196e-06, 3.362727807172252e-06, 3.3509700176366843e-06, 3.3392122281011176e-06, 3.32745443856555e-06, 3.3156966490299823e-06, 3.3039388594944155e-06, 3.292181069958848e-06, 3.2804232804232807e-06, 3.2686654908877135e-06, 3.256907701352146e-06, 3.2451499118165787e-06, 3.2333921222810115e-06, 3.2216343327454443e-06, 3.2098765432098767e-06, 3.19811875367431e-06, 3.1863609641387423e-06, 3.1746031746031746e-06, 3.162845385067608e-06, 3.1510875955320402e-06, 3.1393298059964726e-06, 3.127572016460906e-06, 3.115814226925338e-06, 3.104056437389771e-06, 3.092298647854204e-06, 3.080540858318636e-06, 3.068783068783069e-06, 3.0570252792475018e-06, 3.0452674897119346e-06, 3.033509700176367e-06, 3.0217519106408e-06, 3.0099941211052326e-06, 2.998236331569665e-06, 2.986478542034098e-06, 2.9747207524985305e-06, 2.962962962962963e-06, 2.951205173427396e-06, 2.9394473838918285e-06, 2.9276895943562613e-06, 2.915931804820694e-06, 2.9041740152851265e-06, 2.8924162257495593e-06, 2.880658436213992e-06, 2.868900646678425e-06, 2.8571428571428573e-06, 2.8453850676072905e-06, 2.833627278071723e-06, 2.8218694885361552e-06, 2.8101116990005885e-06, 2.798353909465021e-06, 2.786596119929453e-06, 2.7748383303938864e-06, 2.763080540858319e-06, 2.7513227513227516e-06, 2.7395649617871844e-06, 2.7278071722516168e-06, 2.7160493827160496e-06, 2.7042915931804824e-06, 2.692533803644915e-06, 2.6807760141093476e-06, 2.6690182245737808e-06, 2.657260435038213e-06, 2.6455026455026455e-06, 2.6337448559670788e-06, 2.621987066431511e-06, 2.6102292768959435e-06, 2.5984714873603767e-06, 2.586713697824809e-06, 2.574955908289242e-06, 2.5631981187536747e-06, 2.551440329218107e-06, 2.53968253968254e-06, 2.5279247501469727e-06, 2.5161669606114055e-06, 2.504409171075838e-06, 2.4926513815402707e-06, 2.4808935920047035e-06, 2.469135802469136e-06, 2.4573780129335686e-06, 2.4456202233980014e-06, 2.433862433862434e-06, 2.4221046443268666e-06, 2.4103468547912994e-06, 2.3985890652557318e-06, 2.3868312757201646e-06, 2.3750734861845974e-06, 2.36331569664903e-06, 2.351557907113463e-06, 2.3398001175778958e-06, 2.328042328042328e-06, 2.316284538506761e-06, 2.3045267489711937e-06, 2.292768959435626e-06, 2.281011169900059e-06, 2.2692533803644917e-06, 2.257495590828924e-06, 2.245737801293357e-06, 2.2339800117577897e-06, 2.222222222222222e-06, 2.210464432686655e-06, 2.1987066431510877e-06, 2.1869488536155205e-06, 2.1751910640799533e-06, 2.163433274544386e-06, 2.1516754850088184e-06, 2.1399176954732512e-06, 2.128159905937684e-06, 2.1164021164021164e-06, 2.1046443268665492e-06, 2.092886537330982e-06, 2.0811287477954144e-06, 2.069370958259847e-06, 2.05761316872428e-06, 2.0458553791887124e-06, 2.034097589653145e-06, 2.022339800117578e-06, 2.0105820105820108e-06, 1.9988242210464436e-06, 1.9870664315108764e-06, 1.9753086419753087e-06, 1.9635508524397415e-06, 1.9517930629041743e-06, 1.9400352733686067e-06, 1.9282774838330395e-06, 1.9165196942974723e-06, 1.904761904761905e-06, 1.8930041152263375e-06, 1.8812463256907703e-06, 1.8694885361552029e-06, 1.8577307466196357e-06, 1.8459729570840685e-06, 1.8342151675485009e-06, 1.8224573780129337e-06, 1.8106995884773665e-06, 1.798941798941799e-06, 1.7871840094062318e-06, 1.7754262198706646e-06, 1.763668430335097e-06, 1.7519106407995298e-06, 1.7401528512639626e-06, 1.7283950617283952e-06, 1.7166372721928278e-06, 1.7048794826572606e-06, 1.6931216931216932e-06, 1.681363903586126e-06, 1.6696061140505588e-06, 1.6578483245149912e-06, 1.646090534979424e-06, 1.6343327454438568e-06, 1.6225749559082893e-06, 1.6108171663727221e-06, 1.599059376837155e-06, 1.5873015873015873e-06, 1.5755437977660201e-06, 1.563786008230453e-06, 1.5520282186948855e-06, 1.540270429159318e-06, 1.5285126396237509e-06, 1.5167548500881835e-06, 1.5049970605526163e-06, 1.493239271017049e-06, 1.4814814814814815e-06, 1.4697236919459143e-06, 1.457965902410347e-06, 1.4462081128747796e-06, 1.4344503233392124e-06, 1.4226925338036452e-06, 1.4109347442680776e-06, 1.3991769547325104e-06, 1.3874191651969432e-06, 1.3756613756613758e-06, 1.3639035861258084e-06, 1.3521457965902412e-06, 1.3403880070546738e-06, 1.3286302175191066e-06, 1.3168724279835394e-06, 1.3051146384479718e-06, 1.2933568489124046e-06, 1.2815990593768374e-06, 1.26984126984127e-06, 1.2580834803057027e-06, 1.2463256907701353e-06, 1.234567901234568e-06, 1.2228101116990007e-06, 1.2110523221634333e-06, 1.1992945326278659e-06, 1.1875367430922987e-06, 1.1757789535567315e-06, 1.164021164021164e-06, 1.1522633744855969e-06, 1.1405055849500295e-06, 1.128747795414462e-06, 1.1169900058788948e-06, 1.1052322163433274e-06, 1.0934744268077602e-06, 1.081716637272193e-06, 1.0699588477366256e-06, 1.0582010582010582e-06, 1.046443268665491e-06, 1.0346854791299236e-06, 1.0229276895943562e-06, 1.011169900058789e-06, 9.994121105232218e-07, 9.876543209876544e-07, 9.758965314520872e-07, 9.641387419165198e-07, 9.523809523809525e-07, 9.406231628453851e-07, 9.288653733098178e-07, 9.171075837742504e-07, 9.053497942386832e-07, 8.935920047031159e-07, 8.818342151675485e-07, 8.700764256319813e-07, 8.583186360964139e-07, 8.465608465608466e-07, 8.348030570252794e-07, 8.23045267489712e-07, 8.112874779541447e-07, 7.995296884185775e-07, 7.877718988830101e-07, 7.760141093474428e-07, 7.642563198118754e-07, 7.524985302763081e-07, 7.407407407407407e-07, 7.289829512051735e-07, 7.172251616696062e-07, 7.054673721340388e-07, 6.937095825984716e-07, 6.819517930629042e-07, 6.701940035273369e-07, 6.584362139917697e-07, 6.466784244562023e-07, 6.34920634920635e-07, 6.231628453850677e-07, 6.114050558495004e-07, 5.996472663139329e-07, 5.878894767783657e-07, 5.761316872427984e-07, 5.64373897707231e-07, 5.526161081716637e-07, 5.408583186360965e-07, 5.291005291005291e-07, 5.173427395649618e-07, 5.055849500293945e-07, 4.938271604938272e-07, 4.820693709582599e-07, 4.703115814226926e-07, 4.585537918871252e-07, 4.4679600235155796e-07, 4.3503821281599065e-07, 4.232804232804233e-07, 4.11522633744856e-07, 3.9976484420928874e-07, 3.880070546737214e-07, 3.7624926513815407e-07, 3.6449147560258676e-07, 3.527336860670194e-07, 3.409758965314521e-07, 3.2921810699588484e-07, 3.174603174603175e-07, 3.057025279247502e-07, 2.9394473838918287e-07, 2.821869488536155e-07, 2.7042915931804826e-07, 2.586713697824809e-07, 2.469135802469136e-07, 2.351557907113463e-07, 2.2339800117577898e-07, 2.1164021164021165e-07, 1.9988242210464437e-07, 1.8812463256907703e-07, 1.763668430335097e-07, 1.6460905349794242e-07, 1.528512639623751e-07, 1.4109347442680776e-07, 1.2933568489124045e-07, 1.1757789535567314e-07, 1.0582010582010582e-07, 9.406231628453852e-08, 8.230452674897121e-08, 7.054673721340388e-08, 5.878894767783657e-08, 4.703115814226926e-08, 3.527336860670194e-08]\n",
            "<class 'accelerate.optimizer.AcceleratedOptimizer'>\n",
            "使用的底层优化器: <class 'torch.optim.adamw.AdamW'>\n"
          ]
        }
      ]
    },
    {
      "cell_type": "markdown",
      "id": "00d79e9c",
      "metadata": {
        "id": "00d79e9c"
      },
      "source": [
        "### 5.2.9 訓練後のモデルの評価"
      ]
    },
    {
      "cell_type": "code",
      "execution_count": 47,
      "id": "1f6737b3",
      "metadata": {
        "colab": {
          "base_uri": "https://localhost:8080/",
          "height": 141
        },
        "id": "1f6737b3",
        "outputId": "4988606e-dad1-464e-dcb9-fa6d578ccb53"
      },
      "outputs": [
        {
          "output_type": "display_data",
          "data": {
            "text/plain": [
              "<IPython.core.display.HTML object>"
            ],
            "text/html": [
              "\n",
              "    <div>\n",
              "      \n",
              "      <progress value='51' max='51' style='width:300px; height:20px; vertical-align: middle;'></progress>\n",
              "      [51/51 00:02]\n",
              "    </div>\n",
              "    "
            ]
          },
          "metadata": {}
        },
        {
          "output_type": "stream",
          "name": "stdout",
          "text": [
            "{'epoch': 3.0,\n",
            " 'eval_accuracy': 0.9415422885572139,\n",
            " 'eval_loss': 0.1764022707939148,\n",
            " 'eval_runtime': 2.3791,\n",
            " 'eval_samples_per_second': 675.873,\n",
            " 'eval_steps_per_second': 21.436}\n"
          ]
        }
      ],
      "source": [
        "# 検証セットでモデルを評価\n",
        "eval_metrics = trainer.evaluate(encoded_valid_dataset)\n",
        "pprint(eval_metrics)"
      ]
    },
    {
      "cell_type": "markdown",
      "id": "08ae46d9",
      "metadata": {
        "id": "08ae46d9"
      },
      "source": [
        "### 5.2.10 モデルの保存"
      ]
    },
    {
      "cell_type": "markdown",
      "source": [
        "Google Driveへの保存"
      ],
      "metadata": {
        "collapsed": false,
        "pycharm": {
          "name": "#%% md\n"
        },
        "id": "fJk6458PYVY4"
      },
      "id": "fJk6458PYVY4"
    },
    {
      "cell_type": "code",
      "execution_count": null,
      "id": "50321743",
      "metadata": {
        "id": "50321743"
      },
      "outputs": [],
      "source": [
        "# Googleドライブをマウントする\n",
        "from google.colab import drive\n",
        "\n",
        "drive.mount(\"drive\")"
      ]
    },
    {
      "cell_type": "code",
      "execution_count": null,
      "id": "27389427",
      "metadata": {
        "id": "27389427"
      },
      "outputs": [],
      "source": [
        "# 保存されたモデルをGoogleドライブのフォルダにコピーする\n",
        "!mkdir -p drive/MyDrive/llm-book\n",
        "!cp -r output_wrime drive/MyDrive/llm-book"
      ]
    },
    {
      "cell_type": "markdown",
      "source": [
        "Hugging Face Hubへの保存"
      ],
      "metadata": {
        "collapsed": false,
        "pycharm": {
          "name": "#%% md\n"
        },
        "id": "R-ingrOUYVY4"
      },
      "id": "R-ingrOUYVY4"
    },
    {
      "cell_type": "code",
      "source": [
        "from huggingface_hub import login\n",
        "\n",
        "login()"
      ],
      "metadata": {
        "id": "gNVXdF9Zew3g"
      },
      "id": "gNVXdF9Zew3g",
      "execution_count": null,
      "outputs": []
    },
    {
      "cell_type": "code",
      "source": [
        "# Hugging Face Hubのリポジトリ名\n",
        "# \"YOUR-ACCOUNT\"は自らのユーザ名に置き換えてください\n",
        "repo_name = \"YOUR-ACCOUNT/bert-base-japanese-v3-wrime-sentiment\"\n",
        "# トークナイザとモデルをアップロード\n",
        "tokenizer.push_to_hub(repo_name)\n",
        "model.push_to_hub(repo_name)"
      ],
      "metadata": {
        "id": "VJ5SFlNyexSz"
      },
      "id": "VJ5SFlNyexSz",
      "execution_count": null,
      "outputs": []
    }
  ],
  "metadata": {
    "colab": {
      "provenance": [],
      "gpuType": "T4"
    },
    "language_info": {
      "name": "python"
    },
    "kernelspec": {
      "name": "python3",
      "display_name": "Python 3"
    },
    "accelerator": "GPU",
    "widgets": {
      "application/vnd.jupyter.widget-state+json": {
        "2b73af47f4e2406a8adfcacd6625cb5b": {
          "model_module": "@jupyter-widgets/controls",
          "model_name": "HBoxModel",
          "model_module_version": "1.5.0",
          "state": {
            "_dom_classes": [],
            "_model_module": "@jupyter-widgets/controls",
            "_model_module_version": "1.5.0",
            "_model_name": "HBoxModel",
            "_view_count": null,
            "_view_module": "@jupyter-widgets/controls",
            "_view_module_version": "1.5.0",
            "_view_name": "HBoxView",
            "box_style": "",
            "children": [
              "IPY_MODEL_58030779c84e401d903f2c613d52cc35",
              "IPY_MODEL_82e45a4415814ffa85d596f1119853c0",
              "IPY_MODEL_59ae06de6d6c4b9cae3e9f3accecb3b7"
            ],
            "layout": "IPY_MODEL_db20e7c784c348f5b9fdd202a7ea1553"
          }
        },
        "58030779c84e401d903f2c613d52cc35": {
          "model_module": "@jupyter-widgets/controls",
          "model_name": "HTMLModel",
          "model_module_version": "1.5.0",
          "state": {
            "_dom_classes": [],
            "_model_module": "@jupyter-widgets/controls",
            "_model_module_version": "1.5.0",
            "_model_name": "HTMLModel",
            "_view_count": null,
            "_view_module": "@jupyter-widgets/controls",
            "_view_module_version": "1.5.0",
            "_view_name": "HTMLView",
            "description": "",
            "description_tooltip": null,
            "layout": "IPY_MODEL_4f54413ab968435e8a6577ae253ec094",
            "placeholder": "​",
            "style": "IPY_MODEL_e6e4dd9a43374c088fca8ea32f989f2a",
            "value": "Map: 100%"
          }
        },
        "82e45a4415814ffa85d596f1119853c0": {
          "model_module": "@jupyter-widgets/controls",
          "model_name": "FloatProgressModel",
          "model_module_version": "1.5.0",
          "state": {
            "_dom_classes": [],
            "_model_module": "@jupyter-widgets/controls",
            "_model_module_version": "1.5.0",
            "_model_name": "FloatProgressModel",
            "_view_count": null,
            "_view_module": "@jupyter-widgets/controls",
            "_view_module_version": "1.5.0",
            "_view_name": "ProgressView",
            "bar_style": "success",
            "description": "",
            "description_tooltip": null,
            "layout": "IPY_MODEL_9b66319c5d9a485ead74da2c7c597982",
            "max": 20149,
            "min": 0,
            "orientation": "horizontal",
            "style": "IPY_MODEL_a33e520378324b92a983b872ce2b0771",
            "value": 20149
          }
        },
        "59ae06de6d6c4b9cae3e9f3accecb3b7": {
          "model_module": "@jupyter-widgets/controls",
          "model_name": "HTMLModel",
          "model_module_version": "1.5.0",
          "state": {
            "_dom_classes": [],
            "_model_module": "@jupyter-widgets/controls",
            "_model_module_version": "1.5.0",
            "_model_name": "HTMLModel",
            "_view_count": null,
            "_view_module": "@jupyter-widgets/controls",
            "_view_module_version": "1.5.0",
            "_view_name": "HTMLView",
            "description": "",
            "description_tooltip": null,
            "layout": "IPY_MODEL_f4b5c4df71764162a95bef80f4daa08b",
            "placeholder": "​",
            "style": "IPY_MODEL_d76bd75bdb7c4c078fafd24f54d28ebf",
            "value": " 20149/20149 [00:21&lt;00:00, 1936.20 examples/s]"
          }
        },
        "db20e7c784c348f5b9fdd202a7ea1553": {
          "model_module": "@jupyter-widgets/base",
          "model_name": "LayoutModel",
          "model_module_version": "1.2.0",
          "state": {
            "_model_module": "@jupyter-widgets/base",
            "_model_module_version": "1.2.0",
            "_model_name": "LayoutModel",
            "_view_count": null,
            "_view_module": "@jupyter-widgets/base",
            "_view_module_version": "1.2.0",
            "_view_name": "LayoutView",
            "align_content": null,
            "align_items": null,
            "align_self": null,
            "border": null,
            "bottom": null,
            "display": null,
            "flex": null,
            "flex_flow": null,
            "grid_area": null,
            "grid_auto_columns": null,
            "grid_auto_flow": null,
            "grid_auto_rows": null,
            "grid_column": null,
            "grid_gap": null,
            "grid_row": null,
            "grid_template_areas": null,
            "grid_template_columns": null,
            "grid_template_rows": null,
            "height": null,
            "justify_content": null,
            "justify_items": null,
            "left": null,
            "margin": null,
            "max_height": null,
            "max_width": null,
            "min_height": null,
            "min_width": null,
            "object_fit": null,
            "object_position": null,
            "order": null,
            "overflow": null,
            "overflow_x": null,
            "overflow_y": null,
            "padding": null,
            "right": null,
            "top": null,
            "visibility": null,
            "width": null
          }
        },
        "4f54413ab968435e8a6577ae253ec094": {
          "model_module": "@jupyter-widgets/base",
          "model_name": "LayoutModel",
          "model_module_version": "1.2.0",
          "state": {
            "_model_module": "@jupyter-widgets/base",
            "_model_module_version": "1.2.0",
            "_model_name": "LayoutModel",
            "_view_count": null,
            "_view_module": "@jupyter-widgets/base",
            "_view_module_version": "1.2.0",
            "_view_name": "LayoutView",
            "align_content": null,
            "align_items": null,
            "align_self": null,
            "border": null,
            "bottom": null,
            "display": null,
            "flex": null,
            "flex_flow": null,
            "grid_area": null,
            "grid_auto_columns": null,
            "grid_auto_flow": null,
            "grid_auto_rows": null,
            "grid_column": null,
            "grid_gap": null,
            "grid_row": null,
            "grid_template_areas": null,
            "grid_template_columns": null,
            "grid_template_rows": null,
            "height": null,
            "justify_content": null,
            "justify_items": null,
            "left": null,
            "margin": null,
            "max_height": null,
            "max_width": null,
            "min_height": null,
            "min_width": null,
            "object_fit": null,
            "object_position": null,
            "order": null,
            "overflow": null,
            "overflow_x": null,
            "overflow_y": null,
            "padding": null,
            "right": null,
            "top": null,
            "visibility": null,
            "width": null
          }
        },
        "e6e4dd9a43374c088fca8ea32f989f2a": {
          "model_module": "@jupyter-widgets/controls",
          "model_name": "DescriptionStyleModel",
          "model_module_version": "1.5.0",
          "state": {
            "_model_module": "@jupyter-widgets/controls",
            "_model_module_version": "1.5.0",
            "_model_name": "DescriptionStyleModel",
            "_view_count": null,
            "_view_module": "@jupyter-widgets/base",
            "_view_module_version": "1.2.0",
            "_view_name": "StyleView",
            "description_width": ""
          }
        },
        "9b66319c5d9a485ead74da2c7c597982": {
          "model_module": "@jupyter-widgets/base",
          "model_name": "LayoutModel",
          "model_module_version": "1.2.0",
          "state": {
            "_model_module": "@jupyter-widgets/base",
            "_model_module_version": "1.2.0",
            "_model_name": "LayoutModel",
            "_view_count": null,
            "_view_module": "@jupyter-widgets/base",
            "_view_module_version": "1.2.0",
            "_view_name": "LayoutView",
            "align_content": null,
            "align_items": null,
            "align_self": null,
            "border": null,
            "bottom": null,
            "display": null,
            "flex": null,
            "flex_flow": null,
            "grid_area": null,
            "grid_auto_columns": null,
            "grid_auto_flow": null,
            "grid_auto_rows": null,
            "grid_column": null,
            "grid_gap": null,
            "grid_row": null,
            "grid_template_areas": null,
            "grid_template_columns": null,
            "grid_template_rows": null,
            "height": null,
            "justify_content": null,
            "justify_items": null,
            "left": null,
            "margin": null,
            "max_height": null,
            "max_width": null,
            "min_height": null,
            "min_width": null,
            "object_fit": null,
            "object_position": null,
            "order": null,
            "overflow": null,
            "overflow_x": null,
            "overflow_y": null,
            "padding": null,
            "right": null,
            "top": null,
            "visibility": null,
            "width": null
          }
        },
        "a33e520378324b92a983b872ce2b0771": {
          "model_module": "@jupyter-widgets/controls",
          "model_name": "ProgressStyleModel",
          "model_module_version": "1.5.0",
          "state": {
            "_model_module": "@jupyter-widgets/controls",
            "_model_module_version": "1.5.0",
            "_model_name": "ProgressStyleModel",
            "_view_count": null,
            "_view_module": "@jupyter-widgets/base",
            "_view_module_version": "1.2.0",
            "_view_name": "StyleView",
            "bar_color": null,
            "description_width": ""
          }
        },
        "f4b5c4df71764162a95bef80f4daa08b": {
          "model_module": "@jupyter-widgets/base",
          "model_name": "LayoutModel",
          "model_module_version": "1.2.0",
          "state": {
            "_model_module": "@jupyter-widgets/base",
            "_model_module_version": "1.2.0",
            "_model_name": "LayoutModel",
            "_view_count": null,
            "_view_module": "@jupyter-widgets/base",
            "_view_module_version": "1.2.0",
            "_view_name": "LayoutView",
            "align_content": null,
            "align_items": null,
            "align_self": null,
            "border": null,
            "bottom": null,
            "display": null,
            "flex": null,
            "flex_flow": null,
            "grid_area": null,
            "grid_auto_columns": null,
            "grid_auto_flow": null,
            "grid_auto_rows": null,
            "grid_column": null,
            "grid_gap": null,
            "grid_row": null,
            "grid_template_areas": null,
            "grid_template_columns": null,
            "grid_template_rows": null,
            "height": null,
            "justify_content": null,
            "justify_items": null,
            "left": null,
            "margin": null,
            "max_height": null,
            "max_width": null,
            "min_height": null,
            "min_width": null,
            "object_fit": null,
            "object_position": null,
            "order": null,
            "overflow": null,
            "overflow_x": null,
            "overflow_y": null,
            "padding": null,
            "right": null,
            "top": null,
            "visibility": null,
            "width": null
          }
        },
        "d76bd75bdb7c4c078fafd24f54d28ebf": {
          "model_module": "@jupyter-widgets/controls",
          "model_name": "DescriptionStyleModel",
          "model_module_version": "1.5.0",
          "state": {
            "_model_module": "@jupyter-widgets/controls",
            "_model_module_version": "1.5.0",
            "_model_name": "DescriptionStyleModel",
            "_view_count": null,
            "_view_module": "@jupyter-widgets/base",
            "_view_module_version": "1.2.0",
            "_view_name": "StyleView",
            "description_width": ""
          }
        },
        "7d5003bbf38e4595b49ac48f5961726c": {
          "model_module": "@jupyter-widgets/controls",
          "model_name": "HBoxModel",
          "model_module_version": "1.5.0",
          "state": {
            "_dom_classes": [],
            "_model_module": "@jupyter-widgets/controls",
            "_model_module_version": "1.5.0",
            "_model_name": "HBoxModel",
            "_view_count": null,
            "_view_module": "@jupyter-widgets/controls",
            "_view_module_version": "1.5.0",
            "_view_name": "HBoxView",
            "box_style": "",
            "children": [
              "IPY_MODEL_5a6c963f993347b895d24eb4cdd1cfc4",
              "IPY_MODEL_b91c51d777294879b1065879d1b8d8be",
              "IPY_MODEL_034b000b6dc74a828a2aca98ce233456"
            ],
            "layout": "IPY_MODEL_ff6b3e0e0c80434ebe08c39fb1f3d7ac"
          }
        },
        "5a6c963f993347b895d24eb4cdd1cfc4": {
          "model_module": "@jupyter-widgets/controls",
          "model_name": "HTMLModel",
          "model_module_version": "1.5.0",
          "state": {
            "_dom_classes": [],
            "_model_module": "@jupyter-widgets/controls",
            "_model_module_version": "1.5.0",
            "_model_name": "HTMLModel",
            "_view_count": null,
            "_view_module": "@jupyter-widgets/controls",
            "_view_module_version": "1.5.0",
            "_view_name": "HTMLView",
            "description": "",
            "description_tooltip": null,
            "layout": "IPY_MODEL_032d007b260c488ea09d7747892dfffb",
            "placeholder": "​",
            "style": "IPY_MODEL_4bf59bdfd6874ce692ef67a3f80d5690",
            "value": "Map: 100%"
          }
        },
        "b91c51d777294879b1065879d1b8d8be": {
          "model_module": "@jupyter-widgets/controls",
          "model_name": "FloatProgressModel",
          "model_module_version": "1.5.0",
          "state": {
            "_dom_classes": [],
            "_model_module": "@jupyter-widgets/controls",
            "_model_module_version": "1.5.0",
            "_model_name": "FloatProgressModel",
            "_view_count": null,
            "_view_module": "@jupyter-widgets/controls",
            "_view_module_version": "1.5.0",
            "_view_name": "ProgressView",
            "bar_style": "success",
            "description": "",
            "description_tooltip": null,
            "layout": "IPY_MODEL_bfc31f8a9dfb48b59505af6135b45393",
            "max": 1608,
            "min": 0,
            "orientation": "horizontal",
            "style": "IPY_MODEL_0519d530cb3f4fdda9a2ebb9c859ef9c",
            "value": 1608
          }
        },
        "034b000b6dc74a828a2aca98ce233456": {
          "model_module": "@jupyter-widgets/controls",
          "model_name": "HTMLModel",
          "model_module_version": "1.5.0",
          "state": {
            "_dom_classes": [],
            "_model_module": "@jupyter-widgets/controls",
            "_model_module_version": "1.5.0",
            "_model_name": "HTMLModel",
            "_view_count": null,
            "_view_module": "@jupyter-widgets/controls",
            "_view_module_version": "1.5.0",
            "_view_name": "HTMLView",
            "description": "",
            "description_tooltip": null,
            "layout": "IPY_MODEL_68d3dcd2c1c046dd87fc4defe6a0f5ad",
            "placeholder": "​",
            "style": "IPY_MODEL_3dbe955e56324238a9fe5a52a38f7a62",
            "value": " 1608/1608 [00:01&lt;00:00, 1089.25 examples/s]"
          }
        },
        "ff6b3e0e0c80434ebe08c39fb1f3d7ac": {
          "model_module": "@jupyter-widgets/base",
          "model_name": "LayoutModel",
          "model_module_version": "1.2.0",
          "state": {
            "_model_module": "@jupyter-widgets/base",
            "_model_module_version": "1.2.0",
            "_model_name": "LayoutModel",
            "_view_count": null,
            "_view_module": "@jupyter-widgets/base",
            "_view_module_version": "1.2.0",
            "_view_name": "LayoutView",
            "align_content": null,
            "align_items": null,
            "align_self": null,
            "border": null,
            "bottom": null,
            "display": null,
            "flex": null,
            "flex_flow": null,
            "grid_area": null,
            "grid_auto_columns": null,
            "grid_auto_flow": null,
            "grid_auto_rows": null,
            "grid_column": null,
            "grid_gap": null,
            "grid_row": null,
            "grid_template_areas": null,
            "grid_template_columns": null,
            "grid_template_rows": null,
            "height": null,
            "justify_content": null,
            "justify_items": null,
            "left": null,
            "margin": null,
            "max_height": null,
            "max_width": null,
            "min_height": null,
            "min_width": null,
            "object_fit": null,
            "object_position": null,
            "order": null,
            "overflow": null,
            "overflow_x": null,
            "overflow_y": null,
            "padding": null,
            "right": null,
            "top": null,
            "visibility": null,
            "width": null
          }
        },
        "032d007b260c488ea09d7747892dfffb": {
          "model_module": "@jupyter-widgets/base",
          "model_name": "LayoutModel",
          "model_module_version": "1.2.0",
          "state": {
            "_model_module": "@jupyter-widgets/base",
            "_model_module_version": "1.2.0",
            "_model_name": "LayoutModel",
            "_view_count": null,
            "_view_module": "@jupyter-widgets/base",
            "_view_module_version": "1.2.0",
            "_view_name": "LayoutView",
            "align_content": null,
            "align_items": null,
            "align_self": null,
            "border": null,
            "bottom": null,
            "display": null,
            "flex": null,
            "flex_flow": null,
            "grid_area": null,
            "grid_auto_columns": null,
            "grid_auto_flow": null,
            "grid_auto_rows": null,
            "grid_column": null,
            "grid_gap": null,
            "grid_row": null,
            "grid_template_areas": null,
            "grid_template_columns": null,
            "grid_template_rows": null,
            "height": null,
            "justify_content": null,
            "justify_items": null,
            "left": null,
            "margin": null,
            "max_height": null,
            "max_width": null,
            "min_height": null,
            "min_width": null,
            "object_fit": null,
            "object_position": null,
            "order": null,
            "overflow": null,
            "overflow_x": null,
            "overflow_y": null,
            "padding": null,
            "right": null,
            "top": null,
            "visibility": null,
            "width": null
          }
        },
        "4bf59bdfd6874ce692ef67a3f80d5690": {
          "model_module": "@jupyter-widgets/controls",
          "model_name": "DescriptionStyleModel",
          "model_module_version": "1.5.0",
          "state": {
            "_model_module": "@jupyter-widgets/controls",
            "_model_module_version": "1.5.0",
            "_model_name": "DescriptionStyleModel",
            "_view_count": null,
            "_view_module": "@jupyter-widgets/base",
            "_view_module_version": "1.2.0",
            "_view_name": "StyleView",
            "description_width": ""
          }
        },
        "bfc31f8a9dfb48b59505af6135b45393": {
          "model_module": "@jupyter-widgets/base",
          "model_name": "LayoutModel",
          "model_module_version": "1.2.0",
          "state": {
            "_model_module": "@jupyter-widgets/base",
            "_model_module_version": "1.2.0",
            "_model_name": "LayoutModel",
            "_view_count": null,
            "_view_module": "@jupyter-widgets/base",
            "_view_module_version": "1.2.0",
            "_view_name": "LayoutView",
            "align_content": null,
            "align_items": null,
            "align_self": null,
            "border": null,
            "bottom": null,
            "display": null,
            "flex": null,
            "flex_flow": null,
            "grid_area": null,
            "grid_auto_columns": null,
            "grid_auto_flow": null,
            "grid_auto_rows": null,
            "grid_column": null,
            "grid_gap": null,
            "grid_row": null,
            "grid_template_areas": null,
            "grid_template_columns": null,
            "grid_template_rows": null,
            "height": null,
            "justify_content": null,
            "justify_items": null,
            "left": null,
            "margin": null,
            "max_height": null,
            "max_width": null,
            "min_height": null,
            "min_width": null,
            "object_fit": null,
            "object_position": null,
            "order": null,
            "overflow": null,
            "overflow_x": null,
            "overflow_y": null,
            "padding": null,
            "right": null,
            "top": null,
            "visibility": null,
            "width": null
          }
        },
        "0519d530cb3f4fdda9a2ebb9c859ef9c": {
          "model_module": "@jupyter-widgets/controls",
          "model_name": "ProgressStyleModel",
          "model_module_version": "1.5.0",
          "state": {
            "_model_module": "@jupyter-widgets/controls",
            "_model_module_version": "1.5.0",
            "_model_name": "ProgressStyleModel",
            "_view_count": null,
            "_view_module": "@jupyter-widgets/base",
            "_view_module_version": "1.2.0",
            "_view_name": "StyleView",
            "bar_color": null,
            "description_width": ""
          }
        },
        "68d3dcd2c1c046dd87fc4defe6a0f5ad": {
          "model_module": "@jupyter-widgets/base",
          "model_name": "LayoutModel",
          "model_module_version": "1.2.0",
          "state": {
            "_model_module": "@jupyter-widgets/base",
            "_model_module_version": "1.2.0",
            "_model_name": "LayoutModel",
            "_view_count": null,
            "_view_module": "@jupyter-widgets/base",
            "_view_module_version": "1.2.0",
            "_view_name": "LayoutView",
            "align_content": null,
            "align_items": null,
            "align_self": null,
            "border": null,
            "bottom": null,
            "display": null,
            "flex": null,
            "flex_flow": null,
            "grid_area": null,
            "grid_auto_columns": null,
            "grid_auto_flow": null,
            "grid_auto_rows": null,
            "grid_column": null,
            "grid_gap": null,
            "grid_row": null,
            "grid_template_areas": null,
            "grid_template_columns": null,
            "grid_template_rows": null,
            "height": null,
            "justify_content": null,
            "justify_items": null,
            "left": null,
            "margin": null,
            "max_height": null,
            "max_width": null,
            "min_height": null,
            "min_width": null,
            "object_fit": null,
            "object_position": null,
            "order": null,
            "overflow": null,
            "overflow_x": null,
            "overflow_y": null,
            "padding": null,
            "right": null,
            "top": null,
            "visibility": null,
            "width": null
          }
        },
        "3dbe955e56324238a9fe5a52a38f7a62": {
          "model_module": "@jupyter-widgets/controls",
          "model_name": "DescriptionStyleModel",
          "model_module_version": "1.5.0",
          "state": {
            "_model_module": "@jupyter-widgets/controls",
            "_model_module_version": "1.5.0",
            "_model_name": "DescriptionStyleModel",
            "_view_count": null,
            "_view_module": "@jupyter-widgets/base",
            "_view_module_version": "1.2.0",
            "_view_name": "StyleView",
            "description_width": ""
          }
        }
      }
    }
  },
  "nbformat": 4,
  "nbformat_minor": 5
}